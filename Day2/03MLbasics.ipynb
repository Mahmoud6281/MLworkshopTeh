{
 "cells": [
  {
   "cell_type": "code",
   "execution_count": 43,
   "id": "9b527fa2",
   "metadata": {},
   "outputs": [],
   "source": [
    "#importing libraries\n",
    "import matplotlib.pyplot as plt\n",
    "import numpy as np\n",
    "import pandas as pd\n",
    "import seaborn as sns\n",
    "from sklearn.model_selection import train_test_split\n",
    "from sklearn.preprocessing import StandardScaler\n",
    "\n",
    "from sklearn.compose import ColumnTransformer\n",
    "from sklearn.pipeline import make_pipeline, Pipeline\n",
    "from sklearn.preprocessing import StandardScaler, OneHotEncoder\n",
    "from sklearn.impute import SimpleImputer\n",
    "from sklearn.linear_model import LinearRegression\n",
    "\n",
    "\n",
    "from sklearn import set_config\n",
    "set_config(display='diagram')\n",
    "\n",
    "from sklearn.ensemble import RandomForestClassifier\n",
    "from sklearn.model_selection import GridSearchCV\n",
    "\n",
    "from sklearn.neural_network import MLPClassifier\n",
    "from sklearn.model_selection import GridSearchCV\n",
    "from sklearn.metrics import accuracy_score\n"
   ]
  },
  {
   "cell_type": "markdown",
   "id": "32cc39b4-ec9f-4953-afdb-661b538ca8a5",
   "metadata": {
    "slideshow": {
     "slide_type": "slide"
    },
    "tags": []
   },
   "source": [
    "\n",
    "# Machine Learning vs General Programming"
   ]
  },
  {
   "cell_type": "markdown",
   "id": "492d01df",
   "metadata": {
    "slideshow": {
     "slide_type": "fragment"
    }
   },
   "source": [
    "* In <span style=\"color: blue\">**general programming**</span>, the output is the result of applying a set of rules (the \"program\") to input data. "
   ]
  },
  {
   "cell_type": "markdown",
   "id": "0f4980a0-918c-40f5-ab7d-97b30c8c4437",
   "metadata": {
    "slideshow": {
     "slide_type": "fragment"
    }
   },
   "source": [
    "* In <span style=\"color: teal\">**machine learning**</span> the rules are not pre-defined: instead, the input (**features**) and expected outputs (**labels**) are given and the computer learns the rules from the underlying statistics of the data."
   ]
  },
  {
   "cell_type": "markdown",
   "id": "87f35e17",
   "metadata": {
    "slideshow": {
     "slide_type": "subslide"
    },
    "tags": []
   },
   "source": [
    "## Types of Machine Learning Approaches\n",
    "<img src=\"img/types_of_ML.jpg\">\n",
    "<a href=\"https://www.elsevier.com/books/python-programming-and-numerical-methods/kong/978-0-12-819549-9\">Kong et al (2020)</a>"
   ]
  },
  {
   "cell_type": "markdown",
   "id": "8bd6a437",
   "metadata": {
    "animation": true,
    "slideshow": {
     "slide_type": "subslide"
    },
    "tags": []
   },
   "source": [
    "## Math and Statistics vs Machine Learning\n",
    "<img src=\"img/2.png\">\n"
   ]
  },
  {
   "cell_type": "markdown",
   "id": "7a7c48bc",
   "metadata": {
    "slideshow": {
     "slide_type": "subslide"
    },
    "tags": []
   },
   "source": [
    "## Model vs Data-Centric AI\n",
    "\n",
    "<img src=\"img/3.png\">\n",
    "\n",
    "<a href=\"https://landing.ai/tips-for-a-data-centric-ai-approach/\">Andrew Ng, Landing AI (2021)</a>\n",
    "\n",
    "\n"
   ]
  },
  {
   "cell_type": "markdown",
   "id": "5d0cbdc0-95bb-42b5-93a4-5d757d0bbf96",
   "metadata": {
    "slideshow": {
     "slide_type": "subslide"
    },
    "tags": []
   },
   "source": [
    "## Machine Learning: General Workflow\n",
    "\n",
    "<img src=\"img/4.png\">\n",
    "\n",
    "\n",
    "<a href=\"https://link.springer.com/book/10.1007/978-1-4842-3207-1\">Sarkar et al (2018)</a>, chapter 1\n"
   ]
  },
  {
   "cell_type": "markdown",
   "id": "cd94c437-faa9-4b26-8d87-e4ba2def31f8",
   "metadata": {
    "slideshow": {
     "slide_type": "subslide"
    },
    "tags": []
   },
   "source": [
    "## Ensuring Generalization \n"
   ]
  },
  {
   "cell_type": "markdown",
   "id": "d5288dd0-e0b2-42a0-83c5-4dcb990ec7ae",
   "metadata": {
    "slideshow": {
     "slide_type": "subslide"
    },
    "tags": []
   },
   "source": [
    "\n",
    "<img src=\"img/5.png\">\n",
    "<a href=\"https://visit.figure-eight.com/rs/416-ZBE-142/images/CrowdFlower_DataScienceReport_2016.pdf\">CrowdFlower Data Science Report (2016)</a>\n"
   ]
  },
  {
   "cell_type": "markdown",
   "id": "877fc26f-6cb0-4022-b63e-af8218c51ece",
   "metadata": {
    "slideshow": {
     "slide_type": "fragment"
    }
   },
   "source": [
    "The performance of a Machine Learning model is evaluated on its ability to **generalize** when predicting **unseen data**."
   ]
  },
  {
   "cell_type": "markdown",
   "id": "9b9959d8-fbcc-4e36-b27d-38dadfa4c5c1",
   "metadata": {
    "slideshow": {
     "slide_type": "fragment"
    }
   },
   "source": [
    "We ensure that a model that we train on data generalizes well by testing it on unseen data!"
   ]
  },
  {
   "cell_type": "markdown",
   "id": "96926567",
   "metadata": {},
   "source": [
    "## workflow:\n",
    "1- dropu duplicate\n",
    "\n",
    "2- test train split\n",
    "\n",
    "3- EDA\n",
    "\n",
    "4- Missing\n",
    "\n",
    "5- Outliers\n",
    "\n",
    "6- Scaling\n",
    "\n",
    "7- Feature Engineering"
   ]
  },
  {
   "cell_type": "markdown",
   "id": "efea253c",
   "metadata": {
    "slideshow": {
     "slide_type": "slide"
    },
    "tags": []
   },
   "source": [
    "\n",
    "### Dealing with duplicates \n"
   ]
  },
  {
   "cell_type": "markdown",
   "id": "78029ed0",
   "metadata": {
    "slideshow": {
     "slide_type": "fragment"
    }
   },
   "source": [
    "* Unwanted duplicated observations can discredit the performance evaluation of a model because the same data can leak from the training set to the test set."
   ]
  },
  {
   "cell_type": "markdown",
   "id": "1f1711cd",
   "metadata": {
    "slideshow": {
     "slide_type": "fragment"
    }
   },
   "source": [
    "🚨 **REMOVING DUPLICATES IS THE ONLY OPERATION THAT NEEDS TO BE DONE BEFORE SPLITTING THE DATASET** "
   ]
  },
  {
   "cell_type": "code",
   "execution_count": 45,
   "id": "75aa3dad",
   "metadata": {},
   "outputs": [],
   "source": [
    "import pandas as pd"
   ]
  },
  {
   "cell_type": "code",
   "execution_count": 46,
   "id": "6b4b93a9",
   "metadata": {},
   "outputs": [
    {
     "data": {
      "text/html": [
       "<div>\n",
       "<style scoped>\n",
       "    .dataframe tbody tr th:only-of-type {\n",
       "        vertical-align: middle;\n",
       "    }\n",
       "\n",
       "    .dataframe tbody tr th {\n",
       "        vertical-align: top;\n",
       "    }\n",
       "\n",
       "    .dataframe thead th {\n",
       "        text-align: right;\n",
       "    }\n",
       "</style>\n",
       "<table border=\"1\" class=\"dataframe\">\n",
       "  <thead>\n",
       "    <tr style=\"text-align: right;\">\n",
       "      <th></th>\n",
       "      <th>Id</th>\n",
       "      <th>location</th>\n",
       "      <th>date</th>\n",
       "      <th>month</th>\n",
       "      <th>day</th>\n",
       "      <th>Mw</th>\n",
       "      <th>L [km]</th>\n",
       "      <th>W [km]</th>\n",
       "      <th>fm</th>\n",
       "      <th>*</th>\n",
       "      <th>source</th>\n",
       "      <th>Unnamed: 11</th>\n",
       "    </tr>\n",
       "  </thead>\n",
       "  <tbody>\n",
       "    <tr>\n",
       "      <th>0</th>\n",
       "      <td>1</td>\n",
       "      <td>S. California</td>\n",
       "      <td>1857</td>\n",
       "      <td>1</td>\n",
       "      <td>9</td>\n",
       "      <td>7.86</td>\n",
       "      <td>380.0</td>\n",
       "      <td>12.0</td>\n",
       "      <td>ss</td>\n",
       "      <td>NaN</td>\n",
       "      <td>S</td>\n",
       "      <td>NaN</td>\n",
       "    </tr>\n",
       "    <tr>\n",
       "      <th>1</th>\n",
       "      <td>2</td>\n",
       "      <td>San Francisco</td>\n",
       "      <td>1906</td>\n",
       "      <td>4</td>\n",
       "      <td>18</td>\n",
       "      <td>7.70</td>\n",
       "      <td>450.0</td>\n",
       "      <td>10.0</td>\n",
       "      <td>ss</td>\n",
       "      <td>NaN</td>\n",
       "      <td>S</td>\n",
       "      <td>NaN</td>\n",
       "    </tr>\n",
       "    <tr>\n",
       "      <th>2</th>\n",
       "      <td>3</td>\n",
       "      <td>Avezzano</td>\n",
       "      <td>1915</td>\n",
       "      <td>1</td>\n",
       "      <td>13</td>\n",
       "      <td>6.62</td>\n",
       "      <td>24.0</td>\n",
       "      <td>15.0</td>\n",
       "      <td>n</td>\n",
       "      <td>NaN</td>\n",
       "      <td>W&amp;C</td>\n",
       "      <td>NaN</td>\n",
       "    </tr>\n",
       "    <tr>\n",
       "      <th>3</th>\n",
       "      <td>4</td>\n",
       "      <td>Kanto</td>\n",
       "      <td>1923</td>\n",
       "      <td>9</td>\n",
       "      <td>1</td>\n",
       "      <td>8.10</td>\n",
       "      <td>130.0</td>\n",
       "      <td>70.0</td>\n",
       "      <td>r</td>\n",
       "      <td>x</td>\n",
       "      <td>G</td>\n",
       "      <td>NaN</td>\n",
       "    </tr>\n",
       "    <tr>\n",
       "      <th>4</th>\n",
       "      <td>4</td>\n",
       "      <td>Kanto</td>\n",
       "      <td>1923</td>\n",
       "      <td>9</td>\n",
       "      <td>1</td>\n",
       "      <td>7.89</td>\n",
       "      <td>130.0</td>\n",
       "      <td>70.0</td>\n",
       "      <td>r</td>\n",
       "      <td>x</td>\n",
       "      <td>M&amp;B</td>\n",
       "      <td>NaN</td>\n",
       "    </tr>\n",
       "  </tbody>\n",
       "</table>\n",
       "</div>"
      ],
      "text/plain": [
       "   Id       location  date  month  day    Mw  L [km]  W [km]  fm    * source  \\\n",
       "0   1  S. California  1857      1    9  7.86   380.0    12.0  ss  NaN      S   \n",
       "1   2  San Francisco  1906      4   18  7.70   450.0    10.0  ss  NaN      S   \n",
       "2   3       Avezzano  1915      1   13  6.62    24.0    15.0   n  NaN   W&C    \n",
       "3   4          Kanto  1923      9    1  8.10   130.0    70.0   r    x      G   \n",
       "4   4          Kanto  1923      9    1  7.89   130.0    70.0   r    x   M&B    \n",
       "\n",
       "  Unnamed: 11  \n",
       "0         NaN  \n",
       "1         NaN  \n",
       "2         NaN  \n",
       "3         NaN  \n",
       "4         NaN  "
      ]
     },
     "execution_count": 46,
     "metadata": {},
     "output_type": "execute_result"
    }
   ],
   "source": [
    "df = pd.read_csv('input/MW.csv')\n",
    "df.head()\n"
   ]
  },
  {
   "cell_type": "code",
   "execution_count": 48,
   "id": "b2ab86b7",
   "metadata": {},
   "outputs": [
    {
     "data": {
      "text/plain": [
       "Index(['Id', 'location', 'date', 'month', 'day', 'Mw', 'L [km]', 'W [km]',\n",
       "       'fm', '*', 'source', 'Unnamed: 11'],\n",
       "      dtype='object')"
      ]
     },
     "execution_count": 48,
     "metadata": {},
     "output_type": "execute_result"
    }
   ],
   "source": [
    "df.columns"
   ]
  },
  {
   "cell_type": "markdown",
   "id": "930614ae",
   "metadata": {
    "slideshow": {
     "slide_type": "subslide"
    }
   },
   "source": [
    "### 💻 <code>drop_duplicates</code>\n"
   ]
  },
  {
   "cell_type": "code",
   "execution_count": 49,
   "id": "a27e45a1",
   "metadata": {
    "ExecuteTime": {
     "end_time": "2021-10-06T14:49:15.067198Z",
     "start_time": "2021-10-06T14:49:15.059234Z"
    },
    "slideshow": {
     "slide_type": "-"
    }
   },
   "outputs": [
    {
     "data": {
      "text/plain": [
       "0"
      ]
     },
     "execution_count": 49,
     "metadata": {},
     "output_type": "execute_result"
    }
   ],
   "source": [
    "# Check number of duplicates\n",
    "df.duplicated().sum()"
   ]
  },
  {
   "cell_type": "code",
   "execution_count": 50,
   "id": "261fcec6",
   "metadata": {
    "ExecuteTime": {
     "end_time": "2021-10-06T14:49:15.067198Z",
     "start_time": "2021-10-06T14:49:15.059234Z"
    },
    "slideshow": {
     "slide_type": "-"
    }
   },
   "outputs": [],
   "source": [
    "# Remove duplicates\n",
    "df = df.drop_duplicates() "
   ]
  },
  {
   "cell_type": "markdown",
   "id": "388fcabb-735e-451d-b3c9-7e24125c9bbb",
   "metadata": {
    "slideshow": {
     "slide_type": "subslide"
    },
    "tags": []
   },
   "source": [
    "### Splitting data with the Holdout Method\n",
    "The Holdout Method is used to evaluate a model's ability to generalize. It consists of splitting the dataset into two sets:\n",
    "\n",
    "* **Training set** (~70%) \n",
    "* **Testing set** (~30%) \n"
   ]
  },
  {
   "cell_type": "markdown",
   "id": "022e2237-4d45-4bcb-9ec8-49bf316f6eb3",
   "metadata": {
    "slideshow": {
     "slide_type": "subslide"
    }
   },
   "source": [
    "### 💻 <code>train_test_split</code>"
   ]
  },
  {
   "cell_type": "code",
   "execution_count": 51,
   "id": "d86cb11a",
   "metadata": {
    "ExecuteTime": {
     "end_time": "2021-10-06T14:49:14.861358Z",
     "start_time": "2021-10-06T14:49:13.697Z"
    },
    "slideshow": {
     "slide_type": "fragment"
    },
    "tags": []
   },
   "outputs": [],
   "source": [
    "from sklearn.model_selection import train_test_split"
   ]
  },
  {
   "cell_type": "code",
   "execution_count": 52,
   "id": "63f6520e",
   "metadata": {},
   "outputs": [
    {
     "data": {
      "text/html": [
       "<div>\n",
       "<style scoped>\n",
       "    .dataframe tbody tr th:only-of-type {\n",
       "        vertical-align: middle;\n",
       "    }\n",
       "\n",
       "    .dataframe tbody tr th {\n",
       "        vertical-align: top;\n",
       "    }\n",
       "\n",
       "    .dataframe thead th {\n",
       "        text-align: right;\n",
       "    }\n",
       "</style>\n",
       "<table border=\"1\" class=\"dataframe\">\n",
       "  <thead>\n",
       "    <tr style=\"text-align: right;\">\n",
       "      <th></th>\n",
       "      <th>Id</th>\n",
       "      <th>location</th>\n",
       "      <th>date</th>\n",
       "      <th>month</th>\n",
       "      <th>day</th>\n",
       "      <th>Mw</th>\n",
       "      <th>L [km]</th>\n",
       "      <th>W [km]</th>\n",
       "      <th>fm</th>\n",
       "      <th>*</th>\n",
       "      <th>source</th>\n",
       "      <th>Unnamed: 11</th>\n",
       "    </tr>\n",
       "  </thead>\n",
       "  <tbody>\n",
       "    <tr>\n",
       "      <th>0</th>\n",
       "      <td>1</td>\n",
       "      <td>S. California</td>\n",
       "      <td>1857</td>\n",
       "      <td>1</td>\n",
       "      <td>9</td>\n",
       "      <td>7.86</td>\n",
       "      <td>380.0</td>\n",
       "      <td>12.0</td>\n",
       "      <td>ss</td>\n",
       "      <td>NaN</td>\n",
       "      <td>S</td>\n",
       "      <td>NaN</td>\n",
       "    </tr>\n",
       "    <tr>\n",
       "      <th>1</th>\n",
       "      <td>2</td>\n",
       "      <td>San Francisco</td>\n",
       "      <td>1906</td>\n",
       "      <td>4</td>\n",
       "      <td>18</td>\n",
       "      <td>7.70</td>\n",
       "      <td>450.0</td>\n",
       "      <td>10.0</td>\n",
       "      <td>ss</td>\n",
       "      <td>NaN</td>\n",
       "      <td>S</td>\n",
       "      <td>NaN</td>\n",
       "    </tr>\n",
       "    <tr>\n",
       "      <th>2</th>\n",
       "      <td>3</td>\n",
       "      <td>Avezzano</td>\n",
       "      <td>1915</td>\n",
       "      <td>1</td>\n",
       "      <td>13</td>\n",
       "      <td>6.62</td>\n",
       "      <td>24.0</td>\n",
       "      <td>15.0</td>\n",
       "      <td>n</td>\n",
       "      <td>NaN</td>\n",
       "      <td>W&amp;C</td>\n",
       "      <td>NaN</td>\n",
       "    </tr>\n",
       "    <tr>\n",
       "      <th>3</th>\n",
       "      <td>4</td>\n",
       "      <td>Kanto</td>\n",
       "      <td>1923</td>\n",
       "      <td>9</td>\n",
       "      <td>1</td>\n",
       "      <td>8.10</td>\n",
       "      <td>130.0</td>\n",
       "      <td>70.0</td>\n",
       "      <td>r</td>\n",
       "      <td>x</td>\n",
       "      <td>G</td>\n",
       "      <td>NaN</td>\n",
       "    </tr>\n",
       "    <tr>\n",
       "      <th>4</th>\n",
       "      <td>4</td>\n",
       "      <td>Kanto</td>\n",
       "      <td>1923</td>\n",
       "      <td>9</td>\n",
       "      <td>1</td>\n",
       "      <td>7.89</td>\n",
       "      <td>130.0</td>\n",
       "      <td>70.0</td>\n",
       "      <td>r</td>\n",
       "      <td>x</td>\n",
       "      <td>M&amp;B</td>\n",
       "      <td>NaN</td>\n",
       "    </tr>\n",
       "    <tr>\n",
       "      <th>...</th>\n",
       "      <td>...</td>\n",
       "      <td>...</td>\n",
       "      <td>...</td>\n",
       "      <td>...</td>\n",
       "      <td>...</td>\n",
       "      <td>...</td>\n",
       "      <td>...</td>\n",
       "      <td>...</td>\n",
       "      <td>...</td>\n",
       "      <td>...</td>\n",
       "      <td>...</td>\n",
       "      <td>...</td>\n",
       "    </tr>\n",
       "    <tr>\n",
       "      <th>354</th>\n",
       "      <td>280</td>\n",
       "      <td>Kuriles</td>\n",
       "      <td>2007</td>\n",
       "      <td>1</td>\n",
       "      <td>13</td>\n",
       "      <td>8.10</td>\n",
       "      <td>210.0</td>\n",
       "      <td>NaN</td>\n",
       "      <td>n</td>\n",
       "      <td>x</td>\n",
       "      <td>23</td>\n",
       "      <td>NaN</td>\n",
       "    </tr>\n",
       "    <tr>\n",
       "      <th>355</th>\n",
       "      <td>281</td>\n",
       "      <td>Niigata-Ken</td>\n",
       "      <td>2007</td>\n",
       "      <td>7</td>\n",
       "      <td>16</td>\n",
       "      <td>6.80</td>\n",
       "      <td>30.0</td>\n",
       "      <td>24.0</td>\n",
       "      <td>r</td>\n",
       "      <td>NaN</td>\n",
       "      <td>24</td>\n",
       "      <td>NaN</td>\n",
       "    </tr>\n",
       "    <tr>\n",
       "      <th>356</th>\n",
       "      <td>282</td>\n",
       "      <td>New Zealand</td>\n",
       "      <td>2007</td>\n",
       "      <td>10</td>\n",
       "      <td>15</td>\n",
       "      <td>6.70</td>\n",
       "      <td>24.0</td>\n",
       "      <td>15.0</td>\n",
       "      <td>r</td>\n",
       "      <td>x</td>\n",
       "      <td>25</td>\n",
       "      <td>NaN</td>\n",
       "    </tr>\n",
       "    <tr>\n",
       "      <th>357</th>\n",
       "      <td>283</td>\n",
       "      <td>Wenchuan</td>\n",
       "      <td>2008</td>\n",
       "      <td>5</td>\n",
       "      <td>12</td>\n",
       "      <td>7.90</td>\n",
       "      <td>270.0</td>\n",
       "      <td>NaN</td>\n",
       "      <td>r</td>\n",
       "      <td>NaN</td>\n",
       "      <td>26</td>\n",
       "      <td>NaN</td>\n",
       "    </tr>\n",
       "    <tr>\n",
       "      <th>358</th>\n",
       "      <td>283</td>\n",
       "      <td>Wenchuan</td>\n",
       "      <td>2008</td>\n",
       "      <td>5</td>\n",
       "      <td>12</td>\n",
       "      <td>8.00</td>\n",
       "      <td>330.0</td>\n",
       "      <td>NaN</td>\n",
       "      <td>r</td>\n",
       "      <td>NaN</td>\n",
       "      <td>27</td>\n",
       "      <td>NaN</td>\n",
       "    </tr>\n",
       "  </tbody>\n",
       "</table>\n",
       "<p>359 rows × 12 columns</p>\n",
       "</div>"
      ],
      "text/plain": [
       "      Id       location  date  month  day    Mw  L [km]  W [km]  fm    *  \\\n",
       "0      1  S. California  1857      1    9  7.86   380.0    12.0  ss  NaN   \n",
       "1      2  San Francisco  1906      4   18  7.70   450.0    10.0  ss  NaN   \n",
       "2      3       Avezzano  1915      1   13  6.62    24.0    15.0   n  NaN   \n",
       "3      4          Kanto  1923      9    1  8.10   130.0    70.0   r    x   \n",
       "4      4          Kanto  1923      9    1  7.89   130.0    70.0   r    x   \n",
       "..   ...            ...   ...    ...  ...   ...     ...     ...  ..  ...   \n",
       "354  280        Kuriles  2007      1   13  8.10   210.0     NaN   n    x   \n",
       "355  281    Niigata-Ken  2007      7   16  6.80    30.0    24.0   r  NaN   \n",
       "356  282    New Zealand  2007     10   15  6.70    24.0    15.0   r    x   \n",
       "357  283       Wenchuan  2008      5   12  7.90   270.0     NaN   r  NaN   \n",
       "358  283       Wenchuan  2008      5   12  8.00   330.0     NaN   r  NaN   \n",
       "\n",
       "    source Unnamed: 11  \n",
       "0        S         NaN  \n",
       "1        S         NaN  \n",
       "2     W&C          NaN  \n",
       "3        G         NaN  \n",
       "4     M&B          NaN  \n",
       "..     ...         ...  \n",
       "354     23         NaN  \n",
       "355     24         NaN  \n",
       "356     25         NaN  \n",
       "357     26         NaN  \n",
       "358     27         NaN  \n",
       "\n",
       "[359 rows x 12 columns]"
      ]
     },
     "execution_count": 52,
     "metadata": {},
     "output_type": "execute_result"
    }
   ],
   "source": [
    "df"
   ]
  },
  {
   "cell_type": "code",
   "execution_count": 56,
   "id": "dc14bed3",
   "metadata": {},
   "outputs": [],
   "source": [
    "y = df['Mw']\n",
    "X = df.drop(columns=['Mw'])\n",
    "X_train, X_test, y_train, y_test = train_test_split(X,y, train_size=0.8,random_state=42 )"
   ]
  },
  {
   "cell_type": "markdown",
   "id": "c409aac1",
   "metadata": {},
   "source": [
    "### 💻 <code>EDA</code>"
   ]
  },
  {
   "cell_type": "markdown",
   "id": "d0081219",
   "metadata": {},
   "source": [
    "1. type"
   ]
  },
  {
   "cell_type": "code",
   "execution_count": 59,
   "id": "51e6ca05",
   "metadata": {},
   "outputs": [
    {
     "data": {
      "text/plain": [
       "177"
      ]
     },
     "execution_count": 59,
     "metadata": {},
     "output_type": "execute_result"
    }
   ],
   "source": [
    "y_train.nunique()"
   ]
  },
  {
   "cell_type": "code",
   "execution_count": 60,
   "id": "058979c3",
   "metadata": {},
   "outputs": [
    {
     "data": {
      "text/plain": [
       "Id               int64\n",
       "location        object\n",
       "date            object\n",
       "month            int64\n",
       "day              int64\n",
       "L [km]         float64\n",
       "W [km]         float64\n",
       "fm              object\n",
       "*               object\n",
       "source          object\n",
       "Unnamed: 11     object\n",
       "dtype: object"
      ]
     },
     "execution_count": 60,
     "metadata": {},
     "output_type": "execute_result"
    }
   ],
   "source": [
    "X_train.dtypes"
   ]
  },
  {
   "cell_type": "code",
   "execution_count": 65,
   "id": "33355aac",
   "metadata": {},
   "outputs": [],
   "source": [
    "num_data = X_train.select_dtypes(include=['int64','float64']).columns\n",
    "\n",
    "cat_data = X_train.select_dtypes(include=['object']).columns"
   ]
  },
  {
   "cell_type": "code",
   "execution_count": 66,
   "id": "859919f3",
   "metadata": {},
   "outputs": [
    {
     "data": {
      "text/plain": [
       "Index(['location', 'date', 'fm', '*', 'source', 'Unnamed: 11'], dtype='object')"
      ]
     },
     "execution_count": 66,
     "metadata": {},
     "output_type": "execute_result"
    }
   ],
   "source": [
    "cat_data"
   ]
  },
  {
   "cell_type": "code",
   "execution_count": 67,
   "id": "0c2cf1bd",
   "metadata": {},
   "outputs": [
    {
     "data": {
      "text/plain": [
       "Index(['Id', 'month', 'day', 'L [km]', 'W [km]'], dtype='object')"
      ]
     },
     "execution_count": 67,
     "metadata": {},
     "output_type": "execute_result"
    }
   ],
   "source": [
    "num_data"
   ]
  },
  {
   "cell_type": "code",
   "execution_count": 68,
   "id": "b48acf73",
   "metadata": {},
   "outputs": [],
   "source": [
    "cat_data = cat_data.drop(['date'])"
   ]
  },
  {
   "cell_type": "code",
   "execution_count": 69,
   "id": "a94b8a1f",
   "metadata": {},
   "outputs": [],
   "source": [
    "num_data = num_data.drop(['Id', 'month','day'])"
   ]
  },
  {
   "cell_type": "code",
   "execution_count": 71,
   "id": "653f5ad7",
   "metadata": {},
   "outputs": [
    {
     "data": {
      "text/plain": [
       "Index(['L [km]', 'W [km]'], dtype='object')"
      ]
     },
     "execution_count": 71,
     "metadata": {},
     "output_type": "execute_result"
    }
   ],
   "source": [
    "num_data"
   ]
  },
  {
   "cell_type": "markdown",
   "id": "21d285ec",
   "metadata": {},
   "source": [
    "2. missing"
   ]
  },
  {
   "cell_type": "code",
   "execution_count": 72,
   "id": "75f2cb95",
   "metadata": {},
   "outputs": [
    {
     "data": {
      "text/plain": [
       "location         0\n",
       "fm               0\n",
       "*              238\n",
       "source           3\n",
       "Unnamed: 11    284\n",
       "dtype: int64"
      ]
     },
     "execution_count": 72,
     "metadata": {},
     "output_type": "execute_result"
    }
   ],
   "source": [
    "X_train[cat_data].isna().sum()"
   ]
  },
  {
   "cell_type": "code",
   "execution_count": 73,
   "id": "b45cd272",
   "metadata": {},
   "outputs": [
    {
     "data": {
      "text/plain": [
       "L [km]     0\n",
       "W [km]    25\n",
       "dtype: int64"
      ]
     },
     "execution_count": 73,
     "metadata": {},
     "output_type": "execute_result"
    }
   ],
   "source": [
    "X_train[num_data].isna().sum()"
   ]
  },
  {
   "cell_type": "code",
   "execution_count": 74,
   "id": "873d3159",
   "metadata": {},
   "outputs": [],
   "source": [
    "cat_data = cat_data.drop(['*', 'Unnamed: 11'])"
   ]
  },
  {
   "cell_type": "markdown",
   "id": "ddd05827",
   "metadata": {},
   "source": [
    "5. co linearity "
   ]
  },
  {
   "cell_type": "code",
   "execution_count": 76,
   "id": "55cae10d",
   "metadata": {},
   "outputs": [
    {
     "data": {
      "text/html": [
       "<div>\n",
       "<style scoped>\n",
       "    .dataframe tbody tr th:only-of-type {\n",
       "        vertical-align: middle;\n",
       "    }\n",
       "\n",
       "    .dataframe tbody tr th {\n",
       "        vertical-align: top;\n",
       "    }\n",
       "\n",
       "    .dataframe thead th {\n",
       "        text-align: right;\n",
       "    }\n",
       "</style>\n",
       "<table border=\"1\" class=\"dataframe\">\n",
       "  <thead>\n",
       "    <tr style=\"text-align: right;\">\n",
       "      <th></th>\n",
       "      <th>L [km]</th>\n",
       "      <th>W [km]</th>\n",
       "    </tr>\n",
       "  </thead>\n",
       "  <tbody>\n",
       "    <tr>\n",
       "      <th>L [km]</th>\n",
       "      <td>1.000000</td>\n",
       "      <td>0.725814</td>\n",
       "    </tr>\n",
       "    <tr>\n",
       "      <th>W [km]</th>\n",
       "      <td>0.725814</td>\n",
       "      <td>1.000000</td>\n",
       "    </tr>\n",
       "  </tbody>\n",
       "</table>\n",
       "</div>"
      ],
      "text/plain": [
       "          L [km]    W [km]\n",
       "L [km]  1.000000  0.725814\n",
       "W [km]  0.725814  1.000000"
      ]
     },
     "execution_count": 76,
     "metadata": {},
     "output_type": "execute_result"
    }
   ],
   "source": [
    "corr"
   ]
  },
  {
   "cell_type": "code",
   "execution_count": 77,
   "id": "7e85e798",
   "metadata": {},
   "outputs": [
    {
     "data": {
      "image/png": "[encoded data removed]",
      "text/plain": [
       "<Figure size 640x480 with 2 Axes>"
      ]
     },
     "metadata": {},
     "output_type": "display_data"
    }
   ],
   "source": [
    "corr = X_train[num_data].corr()\n",
    "sns.heatmap(corr, annot=corr);"
   ]
  },
  {
   "cell_type": "code",
   "execution_count": 78,
   "id": "d4fc19ec",
   "metadata": {},
   "outputs": [],
   "source": [
    "num_data = num_data.drop(['W [km]'])"
   ]
  },
  {
   "cell_type": "markdown",
   "id": "faf719e3",
   "metadata": {},
   "source": [
    "3. distribution "
   ]
  },
  {
   "cell_type": "code",
   "execution_count": 79,
   "id": "8943cc33",
   "metadata": {},
   "outputs": [
    {
     "data": {
      "image/png": "[encoded data removed]",
      "text/plain": [
       "<Figure size 250x250 with 2 Axes>"
      ]
     },
     "metadata": {},
     "output_type": "display_data"
    }
   ],
   "source": [
    "import seaborn as sns\n",
    "sns.pairplot(X_train[num_data]);"
   ]
  },
  {
   "cell_type": "code",
   "execution_count": null,
   "id": "18d9f432",
   "metadata": {},
   "outputs": [],
   "source": []
  },
  {
   "cell_type": "markdown",
   "id": "51acba48",
   "metadata": {},
   "source": [
    "4. outlier and 5. scaling"
   ]
  },
  {
   "cell_type": "code",
   "execution_count": 81,
   "id": "7efc40c5",
   "metadata": {},
   "outputs": [
    {
     "data": {
      "text/html": [
       "<div>\n",
       "<style scoped>\n",
       "    .dataframe tbody tr th:only-of-type {\n",
       "        vertical-align: middle;\n",
       "    }\n",
       "\n",
       "    .dataframe tbody tr th {\n",
       "        vertical-align: top;\n",
       "    }\n",
       "\n",
       "    .dataframe thead th {\n",
       "        text-align: right;\n",
       "    }\n",
       "</style>\n",
       "<table border=\"1\" class=\"dataframe\">\n",
       "  <thead>\n",
       "    <tr style=\"text-align: right;\">\n",
       "      <th></th>\n",
       "      <th>L [km]</th>\n",
       "    </tr>\n",
       "  </thead>\n",
       "  <tbody>\n",
       "    <tr>\n",
       "      <th>count</th>\n",
       "      <td>287.000000</td>\n",
       "    </tr>\n",
       "    <tr>\n",
       "      <th>mean</th>\n",
       "      <td>76.881742</td>\n",
       "    </tr>\n",
       "    <tr>\n",
       "      <th>std</th>\n",
       "      <td>150.006778</td>\n",
       "    </tr>\n",
       "    <tr>\n",
       "      <th>min</th>\n",
       "      <td>1.500000</td>\n",
       "    </tr>\n",
       "    <tr>\n",
       "      <th>25%</th>\n",
       "      <td>13.000000</td>\n",
       "    </tr>\n",
       "    <tr>\n",
       "      <th>50%</th>\n",
       "      <td>30.000000</td>\n",
       "    </tr>\n",
       "    <tr>\n",
       "      <th>75%</th>\n",
       "      <td>64.500000</td>\n",
       "    </tr>\n",
       "    <tr>\n",
       "      <th>max</th>\n",
       "      <td>1200.000000</td>\n",
       "    </tr>\n",
       "  </tbody>\n",
       "</table>\n",
       "</div>"
      ],
      "text/plain": [
       "            L [km]\n",
       "count   287.000000\n",
       "mean     76.881742\n",
       "std     150.006778\n",
       "min       1.500000\n",
       "25%      13.000000\n",
       "50%      30.000000\n",
       "75%      64.500000\n",
       "max    1200.000000"
      ]
     },
     "execution_count": 81,
     "metadata": {},
     "output_type": "execute_result"
    }
   ],
   "source": [
    "X_train[num_data].describe()"
   ]
  },
  {
   "cell_type": "markdown",
   "id": "fe8aef72-1804-4b93-be82-093fd9d1e61d",
   "metadata": {
    "slideshow": {
     "slide_type": "slide"
    }
   },
   "source": [
    "## Feature Scaling\n",
    "\n",
    "Why do we need to scale our data?"
   ]
  },
  {
   "cell_type": "markdown",
   "id": "7e2339f7",
   "metadata": {
    "slideshow": {
     "slide_type": "fragment"
    },
    "tags": []
   },
   "source": [
    "* Features with large magnitudes can incorrectly outweigh features of small magnitudes "
   ]
  },
  {
   "cell_type": "markdown",
   "id": "2c8707f0",
   "metadata": {
    "slideshow": {
     "slide_type": "fragment"
    },
    "tags": []
   },
   "source": [
    "* Scaling to smaller magnitudes improves computational efficiency "
   ]
  },
  {
   "cell_type": "markdown",
   "id": "16b5fdb0",
   "metadata": {
    "slideshow": {
     "slide_type": "fragment"
    },
    "tags": []
   },
   "source": [
    "* Increases interpretability of coefficients in parametric models"
   ]
  },
  {
   "cell_type": "markdown",
   "id": "62c9448b-9b8d-401b-8770-2e6a7597dde2",
   "metadata": {
    "slideshow": {
     "slide_type": "fragment"
    },
    "tags": []
   },
   "source": [
    "* Essential for 'distance-based' models"
   ]
  },
  {
   "cell_type": "markdown",
   "id": "237e791f-a197-401e-b93d-5070f59d7d6a",
   "metadata": {
    "slideshow": {
     "slide_type": "subslide"
    }
   },
   "source": [
    "## Three common scaling algorithms\n",
    "* 👉 **Standardizing**: Sklearn <code>StandardScaler()</code>\n",
    "$$z =  \\frac{(x - mean)}{std}$$"
   ]
  },
  {
   "cell_type": "markdown",
   "id": "94b76aab",
   "metadata": {
    "slideshow": {
     "slide_type": "fragment"
    }
   },
   "source": [
    "* 👉 **Robust Scaling**: Sklearn <code>RobustScaler()</code>\n",
    "$$Robust Scaled = \\frac{(x - median)}{IQR}$$"
   ]
  },
  {
   "cell_type": "markdown",
   "id": "8a4b63ab",
   "metadata": {
    "ExecuteTime": {
     "end_time": "2021-10-06T16:50:24.350991Z",
     "start_time": "2021-10-06T16:50:24.345791Z"
    },
    "slideshow": {
     "slide_type": "fragment"
    }
   },
   "source": [
    "* 👉 **Normalizing**: Sklearn <code>MinMaxScaler()</code>\n",
    "$$X' =  \\frac{(X - X_{min})}{X_{max} - X_{min}}$$"
   ]
  },
  {
   "cell_type": "markdown",
   "id": "8e11d127-245d-4607-82d7-746e3809f501",
   "metadata": {
    "slideshow": {
     "slide_type": "subslide"
    },
    "tags": []
   },
   "source": [
    "### Standardization:\n",
    "* Most effective when data is normally distributed \n",
    "* Does not ensure an exact common range \n",
    "* Sensitive to outliers \n",
    "* Can distort relative distances between feature values "
   ]
  },
  {
   "cell_type": "markdown",
   "id": "16b7e80c",
   "metadata": {
    "slideshow": {
     "slide_type": "fragment"
    },
    "tags": []
   },
   "source": [
    "### Robust Scaling:\n",
    "* Similar to standardization but more robust to outliers"
   ]
  },
  {
   "cell_type": "markdown",
   "id": "baba4c15",
   "metadata": {
    "slideshow": {
     "slide_type": "fragment"
    }
   },
   "source": [
    "### Normalizing:\n",
    "* Ensures a fixed range, important with distance based algorithms like the K-Nearest Neighbours\n",
    "* Efficient regardless of distribution \n",
    "* Doesn't reduce the effect of outliers \n",
    "* Doesn't correct the skewness of a distribution \n"
   ]
  },
  {
   "cell_type": "code",
   "execution_count": 87,
   "id": "4b4179c9",
   "metadata": {},
   "outputs": [
    {
     "data": {
      "text/plain": [
       "W&C     159\n",
       "K        32\n",
       "G        28\n",
       "M&B      24\n",
       "S        20\n",
       "4         3\n",
       "12        1\n",
       "27        1\n",
       "25        1\n",
       "14        1\n",
       "22        1\n",
       "19        1\n",
       "6         1\n",
       "2         1\n",
       "26        1\n",
       "21        1\n",
       "W&C       1\n",
       "15        1\n",
       "10        1\n",
       "9         1\n",
       "13        1\n",
       "8         1\n",
       "23        1\n",
       "18        1\n",
       "Name: source, dtype: int64"
      ]
     },
     "execution_count": 87,
     "metadata": {},
     "output_type": "execute_result"
    }
   ],
   "source": [
    "X_train['source'].value_counts()"
   ]
  },
  {
   "cell_type": "code",
   "execution_count": 88,
   "id": "1512b7cb",
   "metadata": {},
   "outputs": [],
   "source": [
    "num_pipe = make_pipeline(SimpleImputer(), StandardScaler())\n",
    "cat_pipe = make_pipeline(SimpleImputer(strategy='most_frequent'), OneHotEncoder(handle_unknown='ignore'))"
   ]
  },
  {
   "cell_type": "code",
   "execution_count": 89,
   "id": "021f7ea6",
   "metadata": {},
   "outputs": [],
   "source": [
    "final_pipe = ColumnTransformer([\n",
    "    ('num', num_pipe, num_data),\n",
    "    ('cat', cat_pipe, cat_data)])"
   ]
  },
  {
   "cell_type": "code",
   "execution_count": 90,
   "id": "ead474c8",
   "metadata": {},
   "outputs": [
    {
     "data": {
      "text/html": [
       "<style>#sk-container-id-2 {color: black;background-color: white;}#sk-container-id-2 pre{padding: 0;}#sk-container-id-2 div.sk-toggleable {background-color: white;}#sk-container-id-2 label.sk-toggleable__label {cursor: pointer;display: block;width: 100%;margin-bottom: 0;padding: 0.3em;box-sizing: border-box;text-align: center;}#sk-container-id-2 label.sk-toggleable__label-arrow:before {content: \"▸\";float: left;margin-right: 0.25em;color: #696969;}#sk-container-id-2 label.sk-toggleable__label-arrow:hover:before {color: black;}#sk-container-id-2 div.sk-estimator:hover label.sk-toggleable__label-arrow:before {color: black;}#sk-container-id-2 div.sk-toggleable__content {max-height: 0;max-width: 0;overflow: hidden;text-align: left;background-color: #f0f8ff;}#sk-container-id-2 div.sk-toggleable__content pre {margin: 0.2em;color: black;border-radius: 0.25em;background-color: #f0f8ff;}#sk-container-id-2 input.sk-toggleable__control:checked~div.sk-toggleable__content {max-height: 200px;max-width: 100%;overflow: auto;}#sk-container-id-2 input.sk-toggleable__control:checked~label.sk-toggleable__label-arrow:before {content: \"▾\";}#sk-container-id-2 div.sk-estimator input.sk-toggleable__control:checked~label.sk-toggleable__label {background-color: #d4ebff;}#sk-container-id-2 div.sk-label input.sk-toggleable__control:checked~label.sk-toggleable__label {background-color: #d4ebff;}#sk-container-id-2 input.sk-hidden--visually {border: 0;clip: rect(1px 1px 1px 1px);clip: rect(1px, 1px, 1px, 1px);height: 1px;margin: -1px;overflow: hidden;padding: 0;position: absolute;width: 1px;}#sk-container-id-2 div.sk-estimator {font-family: monospace;background-color: #f0f8ff;border: 1px dotted black;border-radius: 0.25em;box-sizing: border-box;margin-bottom: 0.5em;}#sk-container-id-2 div.sk-estimator:hover {background-color: #d4ebff;}#sk-container-id-2 div.sk-parallel-item::after {content: \"\";width: 100%;border-bottom: 1px solid gray;flex-grow: 1;}#sk-container-id-2 div.sk-label:hover label.sk-toggleable__label {background-color: #d4ebff;}#sk-container-id-2 div.sk-serial::before {content: \"\";position: absolute;border-left: 1px solid gray;box-sizing: border-box;top: 0;bottom: 0;left: 50%;z-index: 0;}#sk-container-id-2 div.sk-serial {display: flex;flex-direction: column;align-items: center;background-color: white;padding-right: 0.2em;padding-left: 0.2em;position: relative;}#sk-container-id-2 div.sk-item {position: relative;z-index: 1;}#sk-container-id-2 div.sk-parallel {display: flex;align-items: stretch;justify-content: center;background-color: white;position: relative;}#sk-container-id-2 div.sk-item::before, #sk-container-id-2 div.sk-parallel-item::before {content: \"\";position: absolute;border-left: 1px solid gray;box-sizing: border-box;top: 0;bottom: 0;left: 50%;z-index: -1;}#sk-container-id-2 div.sk-parallel-item {display: flex;flex-direction: column;z-index: 1;position: relative;background-color: white;}#sk-container-id-2 div.sk-parallel-item:first-child::after {align-self: flex-end;width: 50%;}#sk-container-id-2 div.sk-parallel-item:last-child::after {align-self: flex-start;width: 50%;}#sk-container-id-2 div.sk-parallel-item:only-child::after {width: 0;}#sk-container-id-2 div.sk-dashed-wrapped {border: 1px dashed gray;margin: 0 0.4em 0.5em 0.4em;box-sizing: border-box;padding-bottom: 0.4em;background-color: white;}#sk-container-id-2 div.sk-label label {font-family: monospace;font-weight: bold;display: inline-block;line-height: 1.2em;}#sk-container-id-2 div.sk-label-container {text-align: center;}#sk-container-id-2 div.sk-container {/* jupyter's `normalize.less` sets `[hidden] { display: none; }` but bootstrap.min.css set `[hidden] { display: none !important; }` so we also need the `!important` here to be able to override the default hidden behavior on the sphinx rendered scikit-learn.org. See: https://github.com/scikit-learn/scikit-learn/issues/21755 */display: inline-block !important;position: relative;}#sk-container-id-2 div.sk-text-repr-fallback {display: none;}</style><div id=\"sk-container-id-2\" class=\"sk-top-container\"><div class=\"sk-text-repr-fallback\"><pre>ColumnTransformer(transformers=[(&#x27;num&#x27;,\n",
       "                                 Pipeline(steps=[(&#x27;simpleimputer&#x27;,\n",
       "                                                  SimpleImputer()),\n",
       "                                                 (&#x27;standardscaler&#x27;,\n",
       "                                                  StandardScaler())]),\n",
       "                                 Index([&#x27;L [km]&#x27;], dtype=&#x27;object&#x27;)),\n",
       "                                (&#x27;cat&#x27;,\n",
       "                                 Pipeline(steps=[(&#x27;simpleimputer&#x27;,\n",
       "                                                  SimpleImputer(strategy=&#x27;most_frequent&#x27;)),\n",
       "                                                 (&#x27;onehotencoder&#x27;,\n",
       "                                                  OneHotEncoder(handle_unknown=&#x27;ignore&#x27;))]),\n",
       "                                 Index([&#x27;location&#x27;, &#x27;fm&#x27;, &#x27;source&#x27;], dtype=&#x27;object&#x27;))])</pre><b>In a Jupyter environment, please rerun this cell to show the HTML representation or trust the notebook. <br />On GitHub, the HTML representation is unable to render, please try loading this page with nbviewer.org.</b></div><div class=\"sk-container\" hidden><div class=\"sk-item sk-dashed-wrapped\"><div class=\"sk-label-container\"><div class=\"sk-label sk-toggleable\"><input class=\"sk-toggleable__control sk-hidden--visually\" id=\"sk-estimator-id-10\" type=\"checkbox\" ><label for=\"sk-estimator-id-10\" class=\"sk-toggleable__label sk-toggleable__label-arrow\">ColumnTransformer</label><div class=\"sk-toggleable__content\"><pre>ColumnTransformer(transformers=[(&#x27;num&#x27;,\n",
       "                                 Pipeline(steps=[(&#x27;simpleimputer&#x27;,\n",
       "                                                  SimpleImputer()),\n",
       "                                                 (&#x27;standardscaler&#x27;,\n",
       "                                                  StandardScaler())]),\n",
       "                                 Index([&#x27;L [km]&#x27;], dtype=&#x27;object&#x27;)),\n",
       "                                (&#x27;cat&#x27;,\n",
       "                                 Pipeline(steps=[(&#x27;simpleimputer&#x27;,\n",
       "                                                  SimpleImputer(strategy=&#x27;most_frequent&#x27;)),\n",
       "                                                 (&#x27;onehotencoder&#x27;,\n",
       "                                                  OneHotEncoder(handle_unknown=&#x27;ignore&#x27;))]),\n",
       "                                 Index([&#x27;location&#x27;, &#x27;fm&#x27;, &#x27;source&#x27;], dtype=&#x27;object&#x27;))])</pre></div></div></div><div class=\"sk-parallel\"><div class=\"sk-parallel-item\"><div class=\"sk-item\"><div class=\"sk-label-container\"><div class=\"sk-label sk-toggleable\"><input class=\"sk-toggleable__control sk-hidden--visually\" id=\"sk-estimator-id-11\" type=\"checkbox\" ><label for=\"sk-estimator-id-11\" class=\"sk-toggleable__label sk-toggleable__label-arrow\">num</label><div class=\"sk-toggleable__content\"><pre>Index([&#x27;L [km]&#x27;], dtype=&#x27;object&#x27;)</pre></div></div></div><div class=\"sk-serial\"><div class=\"sk-item\"><div class=\"sk-serial\"><div class=\"sk-item\"><div class=\"sk-estimator sk-toggleable\"><input class=\"sk-toggleable__control sk-hidden--visually\" id=\"sk-estimator-id-12\" type=\"checkbox\" ><label for=\"sk-estimator-id-12\" class=\"sk-toggleable__label sk-toggleable__label-arrow\">SimpleImputer</label><div class=\"sk-toggleable__content\"><pre>SimpleImputer()</pre></div></div></div><div class=\"sk-item\"><div class=\"sk-estimator sk-toggleable\"><input class=\"sk-toggleable__control sk-hidden--visually\" id=\"sk-estimator-id-13\" type=\"checkbox\" ><label for=\"sk-estimator-id-13\" class=\"sk-toggleable__label sk-toggleable__label-arrow\">StandardScaler</label><div class=\"sk-toggleable__content\"><pre>StandardScaler()</pre></div></div></div></div></div></div></div></div><div class=\"sk-parallel-item\"><div class=\"sk-item\"><div class=\"sk-label-container\"><div class=\"sk-label sk-toggleable\"><input class=\"sk-toggleable__control sk-hidden--visually\" id=\"sk-estimator-id-14\" type=\"checkbox\" ><label for=\"sk-estimator-id-14\" class=\"sk-toggleable__label sk-toggleable__label-arrow\">cat</label><div class=\"sk-toggleable__content\"><pre>Index([&#x27;location&#x27;, &#x27;fm&#x27;, &#x27;source&#x27;], dtype=&#x27;object&#x27;)</pre></div></div></div><div class=\"sk-serial\"><div class=\"sk-item\"><div class=\"sk-serial\"><div class=\"sk-item\"><div class=\"sk-estimator sk-toggleable\"><input class=\"sk-toggleable__control sk-hidden--visually\" id=\"sk-estimator-id-15\" type=\"checkbox\" ><label for=\"sk-estimator-id-15\" class=\"sk-toggleable__label sk-toggleable__label-arrow\">SimpleImputer</label><div class=\"sk-toggleable__content\"><pre>SimpleImputer(strategy=&#x27;most_frequent&#x27;)</pre></div></div></div><div class=\"sk-item\"><div class=\"sk-estimator sk-toggleable\"><input class=\"sk-toggleable__control sk-hidden--visually\" id=\"sk-estimator-id-16\" type=\"checkbox\" ><label for=\"sk-estimator-id-16\" class=\"sk-toggleable__label sk-toggleable__label-arrow\">OneHotEncoder</label><div class=\"sk-toggleable__content\"><pre>OneHotEncoder(handle_unknown=&#x27;ignore&#x27;)</pre></div></div></div></div></div></div></div></div></div></div></div></div>"
      ],
      "text/plain": [
       "ColumnTransformer(transformers=[('num',\n",
       "                                 Pipeline(steps=[('simpleimputer',\n",
       "                                                  SimpleImputer()),\n",
       "                                                 ('standardscaler',\n",
       "                                                  StandardScaler())]),\n",
       "                                 Index(['L [km]'], dtype='object')),\n",
       "                                ('cat',\n",
       "                                 Pipeline(steps=[('simpleimputer',\n",
       "                                                  SimpleImputer(strategy='most_frequent')),\n",
       "                                                 ('onehotencoder',\n",
       "                                                  OneHotEncoder(handle_unknown='ignore'))]),\n",
       "                                 Index(['location', 'fm', 'source'], dtype='object'))])"
      ]
     },
     "execution_count": 90,
     "metadata": {},
     "output_type": "execute_result"
    }
   ],
   "source": [
    "final_pipe"
   ]
  },
  {
   "cell_type": "markdown",
   "id": "f3733fc9",
   "metadata": {},
   "source": [
    "# Model:\n",
    "\n",
    "### Linear Regression: \n",
    "A fundamental model where the relationship between a dependent variable and one or more independent variables is linear. It's often used for forecasting and finding out the strength of predictors.\n",
    "\n",
    "\n",
    "### Polynomial Regression:\n",
    "An extension of linear regression where the relationship between the independent variable x and the dependent variable y is modeled as an nth degree polynomial. Useful for non-linear data.\n",
    "\n",
    "### Ridge Regression: \n",
    "Addresses some of the problems of Linear Regression, particularly useful to analyze multiple regression data that suffer from multicollinearity (independent variables are highly correlated).\n",
    "\n",
    "### Lasso Regression: \n",
    "Similar to Ridge, Lasso (Least Absolute Shrinkage and Selection Operator) regression also penalizes the absolute size of regression coefficients, but can zero out some coefficients, effectively performing feature selection.\n",
    "\n",
    "### Elastic Net Regression:\n",
    "A combination of Ridge and Lasso, this model is used when there are multiple correlated features. It integrates the properties of both ridge and lasso regression.\n",
    "\n",
    "### Quantile Regression: \n",
    "Used for estimating the conditional median or other quantiles of a response variable. Especially useful in scenarios where the conditions of linear regression are not met.\n",
    "\n",
    "### Support Vector Regression (SVR): \n",
    "Adapts the Support Vector Machine (SVM) algorithm for regression. It finds a hyperplane that best fits the data, focusing on the most extreme values (support vectors).\n",
    "\n"
   ]
  },
  {
   "cell_type": "markdown",
   "id": "948df4b0-64c4-4fea-9f77-1b4afb0b6435",
   "metadata": {
    "slideshow": {
     "slide_type": "slide"
    },
    "tags": []
   },
   "source": [
    "# Algorithm of the Day: Linear Regression\n",
    "<br>\n",
    "\n",
    "<center><img src=\"https://drive.google.com/uc?id=10vIFVrCUobl-gkjZSC6mKwk0qgV0KvUW\" style=\"width:900px;\"><br>\n",
    " © Cédric John, 2022; Image generated with <a href=\"https://openai.com/blog/dall-e/\">DALL-E</a>\n",
    "<br>Prompt: Algorithm of the Day.</center>"
   ]
  },
  {
   "cell_type": "markdown",
   "id": "322e134c",
   "metadata": {
    "slideshow": {
     "slide_type": "slide"
    },
    "tags": []
   },
   "source": [
    "\n",
    "<img align=\"center\" src=\"https://drive.google.com/uc?id=11D1Ymcl9S2WFMMhvm3QqitxxigpKjNV4\" width=\"1500\"/>"
   ]
  },
  {
   "cell_type": "markdown",
   "id": "7980fe70",
   "metadata": {
    "slideshow": {
     "slide_type": "subslide"
    },
    "tags": []
   },
   "source": [
    "# Ordinary Least Square (OLS) regression [a reminder]\n",
    "For ordinary least square, we can define our prediction as:\n",
    "\n",
    "$\\hat{y} = (\\beta_1 X_1 + \\beta_2 X_2 + ... + \\beta_n X_n - \\beta_0)$ <br><br>\n",
    "\n",
    "where $\\beta_i$ is a linear coefficient to the function and $\\beta_0$ is the intercept."
   ]
  },
  {
   "cell_type": "markdown",
   "id": "af1df37b",
   "metadata": {
    "slideshow": {
     "slide_type": "fragment"
    },
    "tags": []
   },
   "source": [
    "We can rewrite this more simply using matrix notation:\n",
    "\n",
    "$\\hat{y} = \\beta X$ <br><br>\n",
    "Where $X$ is the feature matrix (multivariate regression) and $\\beta$ is the matrix of coefficients. Note that a constant (<code>1</code>) is added to the feature matrix ($X_{0}$) to account for the intercept ($\\beta_{0}$)."
   ]
  },
  {
   "cell_type": "markdown",
   "id": "c098e9aa",
   "metadata": {
    "slideshow": {
     "slide_type": "fragment"
    },
    "tags": []
   },
   "source": [
    "The goal is to find the $\\beta$ that minimizes the **residual sum of square** between our label ($y$) and $\\hat{y}$:<br><br>\n",
    "$$\\underset{\\beta}{\\mathrm{argmin}} \\sum_{i=1}^{n} \\left(y_{i} - \\hat{y}_{i} \\right)^2$$ <br><br>\n",
    "\n"
   ]
  },
  {
   "cell_type": "markdown",
   "id": "e81198d5-8d14-4649-8274-78c0916a3e6c",
   "metadata": {
    "slideshow": {
     "slide_type": "subslide"
    },
    "tags": []
   },
   "source": [
    "## Parametric models\n",
    "\n",
    "\n",
    "We have seen that some models can be summarized by a set of parameters:\n"
   ]
  },
  {
   "cell_type": "markdown",
   "id": "502d7165-1121-4eb1-b146-450a4fd086f0",
   "metadata": {
    "slideshow": {
     "slide_type": "fragment"
    },
    "tags": []
   },
   "source": [
    "***Ordinary Least Square (OLS) regression*** <br><br>\n",
    "\n",
    "$\\hat{y} = \\beta_1 X_1 + \\beta_2 X_2 + ... + \\beta_n X_n - \\beta_0$ <br><br>"
   ]
  },
  {
   "cell_type": "markdown",
   "id": "a9a63aea-0849-419f-bc7b-53d66059989c",
   "metadata": {
    "slideshow": {
     "slide_type": "fragment"
    },
    "tags": []
   },
   "source": [
    "* If the parameters $\\beta$ of the functions are learned, these can be used to predict unknown samples"
   ]
  },
  {
   "cell_type": "markdown",
   "id": "16885c86-523a-4a50-8ffd-ad0a4513277b",
   "metadata": {
    "slideshow": {
     "slide_type": "fragment"
    },
    "tags": []
   },
   "source": [
    "* There are also non-parametric algorithm!"
   ]
  },
  {
   "cell_type": "markdown",
   "id": "4040bb6d-f45f-4958-9457-bb694109f2dd",
   "metadata": {
    "slideshow": {
     "slide_type": "subslide"
    },
    "tags": []
   },
   "source": [
    "# Sklearn modules and classes\n",
    "* <code>linear_model</code> is a module\n",
    "* <code>LinearRegression</code> is a class<br>\n",
    "👉 <a href=\"https://scikit-learn.org/stable/modules/classes.html#module-sklearn.linear_model\">Sklearn <code>linear_model</code> documentation</a>"
   ]
  },
  {
   "cell_type": "code",
   "execution_count": 91,
   "id": "5bf14aa3",
   "metadata": {},
   "outputs": [],
   "source": [
    "final_pipe2 = make_pipeline(final_pipe, LinearRegression())"
   ]
  },
  {
   "cell_type": "code",
   "execution_count": 92,
   "id": "91bb6c97",
   "metadata": {},
   "outputs": [
    {
     "data": {
      "text/html": [
       "<style>#sk-container-id-3 {color: black;background-color: white;}#sk-container-id-3 pre{padding: 0;}#sk-container-id-3 div.sk-toggleable {background-color: white;}#sk-container-id-3 label.sk-toggleable__label {cursor: pointer;display: block;width: 100%;margin-bottom: 0;padding: 0.3em;box-sizing: border-box;text-align: center;}#sk-container-id-3 label.sk-toggleable__label-arrow:before {content: \"▸\";float: left;margin-right: 0.25em;color: #696969;}#sk-container-id-3 label.sk-toggleable__label-arrow:hover:before {color: black;}#sk-container-id-3 div.sk-estimator:hover label.sk-toggleable__label-arrow:before {color: black;}#sk-container-id-3 div.sk-toggleable__content {max-height: 0;max-width: 0;overflow: hidden;text-align: left;background-color: #f0f8ff;}#sk-container-id-3 div.sk-toggleable__content pre {margin: 0.2em;color: black;border-radius: 0.25em;background-color: #f0f8ff;}#sk-container-id-3 input.sk-toggleable__control:checked~div.sk-toggleable__content {max-height: 200px;max-width: 100%;overflow: auto;}#sk-container-id-3 input.sk-toggleable__control:checked~label.sk-toggleable__label-arrow:before {content: \"▾\";}#sk-container-id-3 div.sk-estimator input.sk-toggleable__control:checked~label.sk-toggleable__label {background-color: #d4ebff;}#sk-container-id-3 div.sk-label input.sk-toggleable__control:checked~label.sk-toggleable__label {background-color: #d4ebff;}#sk-container-id-3 input.sk-hidden--visually {border: 0;clip: rect(1px 1px 1px 1px);clip: rect(1px, 1px, 1px, 1px);height: 1px;margin: -1px;overflow: hidden;padding: 0;position: absolute;width: 1px;}#sk-container-id-3 div.sk-estimator {font-family: monospace;background-color: #f0f8ff;border: 1px dotted black;border-radius: 0.25em;box-sizing: border-box;margin-bottom: 0.5em;}#sk-container-id-3 div.sk-estimator:hover {background-color: #d4ebff;}#sk-container-id-3 div.sk-parallel-item::after {content: \"\";width: 100%;border-bottom: 1px solid gray;flex-grow: 1;}#sk-container-id-3 div.sk-label:hover label.sk-toggleable__label {background-color: #d4ebff;}#sk-container-id-3 div.sk-serial::before {content: \"\";position: absolute;border-left: 1px solid gray;box-sizing: border-box;top: 0;bottom: 0;left: 50%;z-index: 0;}#sk-container-id-3 div.sk-serial {display: flex;flex-direction: column;align-items: center;background-color: white;padding-right: 0.2em;padding-left: 0.2em;position: relative;}#sk-container-id-3 div.sk-item {position: relative;z-index: 1;}#sk-container-id-3 div.sk-parallel {display: flex;align-items: stretch;justify-content: center;background-color: white;position: relative;}#sk-container-id-3 div.sk-item::before, #sk-container-id-3 div.sk-parallel-item::before {content: \"\";position: absolute;border-left: 1px solid gray;box-sizing: border-box;top: 0;bottom: 0;left: 50%;z-index: -1;}#sk-container-id-3 div.sk-parallel-item {display: flex;flex-direction: column;z-index: 1;position: relative;background-color: white;}#sk-container-id-3 div.sk-parallel-item:first-child::after {align-self: flex-end;width: 50%;}#sk-container-id-3 div.sk-parallel-item:last-child::after {align-self: flex-start;width: 50%;}#sk-container-id-3 div.sk-parallel-item:only-child::after {width: 0;}#sk-container-id-3 div.sk-dashed-wrapped {border: 1px dashed gray;margin: 0 0.4em 0.5em 0.4em;box-sizing: border-box;padding-bottom: 0.4em;background-color: white;}#sk-container-id-3 div.sk-label label {font-family: monospace;font-weight: bold;display: inline-block;line-height: 1.2em;}#sk-container-id-3 div.sk-label-container {text-align: center;}#sk-container-id-3 div.sk-container {/* jupyter's `normalize.less` sets `[hidden] { display: none; }` but bootstrap.min.css set `[hidden] { display: none !important; }` so we also need the `!important` here to be able to override the default hidden behavior on the sphinx rendered scikit-learn.org. See: https://github.com/scikit-learn/scikit-learn/issues/21755 */display: inline-block !important;position: relative;}#sk-container-id-3 div.sk-text-repr-fallback {display: none;}</style><div id=\"sk-container-id-3\" class=\"sk-top-container\"><div class=\"sk-text-repr-fallback\"><pre>Pipeline(steps=[(&#x27;columntransformer&#x27;,\n",
       "                 ColumnTransformer(transformers=[(&#x27;num&#x27;,\n",
       "                                                  Pipeline(steps=[(&#x27;simpleimputer&#x27;,\n",
       "                                                                   SimpleImputer()),\n",
       "                                                                  (&#x27;standardscaler&#x27;,\n",
       "                                                                   StandardScaler())]),\n",
       "                                                  Index([&#x27;L [km]&#x27;], dtype=&#x27;object&#x27;)),\n",
       "                                                 (&#x27;cat&#x27;,\n",
       "                                                  Pipeline(steps=[(&#x27;simpleimputer&#x27;,\n",
       "                                                                   SimpleImputer(strategy=&#x27;most_frequent&#x27;)),\n",
       "                                                                  (&#x27;onehotencoder&#x27;,\n",
       "                                                                   OneHotEncoder(handle_unknown=&#x27;ignore&#x27;))]),\n",
       "                                                  Index([&#x27;location&#x27;, &#x27;fm&#x27;, &#x27;source&#x27;], dtype=&#x27;object&#x27;))])),\n",
       "                (&#x27;linearregression&#x27;, LinearRegression())])</pre><b>In a Jupyter environment, please rerun this cell to show the HTML representation or trust the notebook. <br />On GitHub, the HTML representation is unable to render, please try loading this page with nbviewer.org.</b></div><div class=\"sk-container\" hidden><div class=\"sk-item sk-dashed-wrapped\"><div class=\"sk-label-container\"><div class=\"sk-label sk-toggleable\"><input class=\"sk-toggleable__control sk-hidden--visually\" id=\"sk-estimator-id-17\" type=\"checkbox\" ><label for=\"sk-estimator-id-17\" class=\"sk-toggleable__label sk-toggleable__label-arrow\">Pipeline</label><div class=\"sk-toggleable__content\"><pre>Pipeline(steps=[(&#x27;columntransformer&#x27;,\n",
       "                 ColumnTransformer(transformers=[(&#x27;num&#x27;,\n",
       "                                                  Pipeline(steps=[(&#x27;simpleimputer&#x27;,\n",
       "                                                                   SimpleImputer()),\n",
       "                                                                  (&#x27;standardscaler&#x27;,\n",
       "                                                                   StandardScaler())]),\n",
       "                                                  Index([&#x27;L [km]&#x27;], dtype=&#x27;object&#x27;)),\n",
       "                                                 (&#x27;cat&#x27;,\n",
       "                                                  Pipeline(steps=[(&#x27;simpleimputer&#x27;,\n",
       "                                                                   SimpleImputer(strategy=&#x27;most_frequent&#x27;)),\n",
       "                                                                  (&#x27;onehotencoder&#x27;,\n",
       "                                                                   OneHotEncoder(handle_unknown=&#x27;ignore&#x27;))]),\n",
       "                                                  Index([&#x27;location&#x27;, &#x27;fm&#x27;, &#x27;source&#x27;], dtype=&#x27;object&#x27;))])),\n",
       "                (&#x27;linearregression&#x27;, LinearRegression())])</pre></div></div></div><div class=\"sk-serial\"><div class=\"sk-item sk-dashed-wrapped\"><div class=\"sk-label-container\"><div class=\"sk-label sk-toggleable\"><input class=\"sk-toggleable__control sk-hidden--visually\" id=\"sk-estimator-id-18\" type=\"checkbox\" ><label for=\"sk-estimator-id-18\" class=\"sk-toggleable__label sk-toggleable__label-arrow\">columntransformer: ColumnTransformer</label><div class=\"sk-toggleable__content\"><pre>ColumnTransformer(transformers=[(&#x27;num&#x27;,\n",
       "                                 Pipeline(steps=[(&#x27;simpleimputer&#x27;,\n",
       "                                                  SimpleImputer()),\n",
       "                                                 (&#x27;standardscaler&#x27;,\n",
       "                                                  StandardScaler())]),\n",
       "                                 Index([&#x27;L [km]&#x27;], dtype=&#x27;object&#x27;)),\n",
       "                                (&#x27;cat&#x27;,\n",
       "                                 Pipeline(steps=[(&#x27;simpleimputer&#x27;,\n",
       "                                                  SimpleImputer(strategy=&#x27;most_frequent&#x27;)),\n",
       "                                                 (&#x27;onehotencoder&#x27;,\n",
       "                                                  OneHotEncoder(handle_unknown=&#x27;ignore&#x27;))]),\n",
       "                                 Index([&#x27;location&#x27;, &#x27;fm&#x27;, &#x27;source&#x27;], dtype=&#x27;object&#x27;))])</pre></div></div></div><div class=\"sk-parallel\"><div class=\"sk-parallel-item\"><div class=\"sk-item\"><div class=\"sk-label-container\"><div class=\"sk-label sk-toggleable\"><input class=\"sk-toggleable__control sk-hidden--visually\" id=\"sk-estimator-id-19\" type=\"checkbox\" ><label for=\"sk-estimator-id-19\" class=\"sk-toggleable__label sk-toggleable__label-arrow\">num</label><div class=\"sk-toggleable__content\"><pre>Index([&#x27;L [km]&#x27;], dtype=&#x27;object&#x27;)</pre></div></div></div><div class=\"sk-serial\"><div class=\"sk-item\"><div class=\"sk-serial\"><div class=\"sk-item\"><div class=\"sk-estimator sk-toggleable\"><input class=\"sk-toggleable__control sk-hidden--visually\" id=\"sk-estimator-id-20\" type=\"checkbox\" ><label for=\"sk-estimator-id-20\" class=\"sk-toggleable__label sk-toggleable__label-arrow\">SimpleImputer</label><div class=\"sk-toggleable__content\"><pre>SimpleImputer()</pre></div></div></div><div class=\"sk-item\"><div class=\"sk-estimator sk-toggleable\"><input class=\"sk-toggleable__control sk-hidden--visually\" id=\"sk-estimator-id-21\" type=\"checkbox\" ><label for=\"sk-estimator-id-21\" class=\"sk-toggleable__label sk-toggleable__label-arrow\">StandardScaler</label><div class=\"sk-toggleable__content\"><pre>StandardScaler()</pre></div></div></div></div></div></div></div></div><div class=\"sk-parallel-item\"><div class=\"sk-item\"><div class=\"sk-label-container\"><div class=\"sk-label sk-toggleable\"><input class=\"sk-toggleable__control sk-hidden--visually\" id=\"sk-estimator-id-22\" type=\"checkbox\" ><label for=\"sk-estimator-id-22\" class=\"sk-toggleable__label sk-toggleable__label-arrow\">cat</label><div class=\"sk-toggleable__content\"><pre>Index([&#x27;location&#x27;, &#x27;fm&#x27;, &#x27;source&#x27;], dtype=&#x27;object&#x27;)</pre></div></div></div><div class=\"sk-serial\"><div class=\"sk-item\"><div class=\"sk-serial\"><div class=\"sk-item\"><div class=\"sk-estimator sk-toggleable\"><input class=\"sk-toggleable__control sk-hidden--visually\" id=\"sk-estimator-id-23\" type=\"checkbox\" ><label for=\"sk-estimator-id-23\" class=\"sk-toggleable__label sk-toggleable__label-arrow\">SimpleImputer</label><div class=\"sk-toggleable__content\"><pre>SimpleImputer(strategy=&#x27;most_frequent&#x27;)</pre></div></div></div><div class=\"sk-item\"><div class=\"sk-estimator sk-toggleable\"><input class=\"sk-toggleable__control sk-hidden--visually\" id=\"sk-estimator-id-24\" type=\"checkbox\" ><label for=\"sk-estimator-id-24\" class=\"sk-toggleable__label sk-toggleable__label-arrow\">OneHotEncoder</label><div class=\"sk-toggleable__content\"><pre>OneHotEncoder(handle_unknown=&#x27;ignore&#x27;)</pre></div></div></div></div></div></div></div></div></div></div><div class=\"sk-item\"><div class=\"sk-estimator sk-toggleable\"><input class=\"sk-toggleable__control sk-hidden--visually\" id=\"sk-estimator-id-25\" type=\"checkbox\" ><label for=\"sk-estimator-id-25\" class=\"sk-toggleable__label sk-toggleable__label-arrow\">LinearRegression</label><div class=\"sk-toggleable__content\"><pre>LinearRegression()</pre></div></div></div></div></div></div></div>"
      ],
      "text/plain": [
       "Pipeline(steps=[('columntransformer',\n",
       "                 ColumnTransformer(transformers=[('num',\n",
       "                                                  Pipeline(steps=[('simpleimputer',\n",
       "                                                                   SimpleImputer()),\n",
       "                                                                  ('standardscaler',\n",
       "                                                                   StandardScaler())]),\n",
       "                                                  Index(['L [km]'], dtype='object')),\n",
       "                                                 ('cat',\n",
       "                                                  Pipeline(steps=[('simpleimputer',\n",
       "                                                                   SimpleImputer(strategy='most_frequent')),\n",
       "                                                                  ('onehotencoder',\n",
       "                                                                   OneHotEncoder(handle_unknown='ignore'))]),\n",
       "                                                  Index(['location', 'fm', 'source'], dtype='object'))])),\n",
       "                ('linearregression', LinearRegression())])"
      ]
     },
     "execution_count": 92,
     "metadata": {},
     "output_type": "execute_result"
    }
   ],
   "source": [
    "final_pipe2.fit(X_train, y_train)"
   ]
  },
  {
   "cell_type": "code",
   "execution_count": 36,
   "id": "12829b12",
   "metadata": {},
   "outputs": [
    {
     "data": {
      "text/plain": [
       "0.048754036147923174"
      ]
     },
     "execution_count": 36,
     "metadata": {},
     "output_type": "execute_result"
    }
   ],
   "source": [
    "final_pipe2.score(X_test,y_test)"
   ]
  },
  {
   "cell_type": "markdown",
   "id": "dcc3c177",
   "metadata": {},
   "source": [
    "Edit"
   ]
  },
  {
   "cell_type": "code",
   "execution_count": 93,
   "id": "f72b6348",
   "metadata": {},
   "outputs": [],
   "source": [
    "final_pipe3 = ColumnTransformer([\n",
    "    ('num', num_pipe, num_data)])"
   ]
  },
  {
   "cell_type": "code",
   "execution_count": 94,
   "id": "03c98b75",
   "metadata": {},
   "outputs": [],
   "source": [
    "final_pipe4 = make_pipeline(final_pipe3, LinearRegression())"
   ]
  },
  {
   "cell_type": "code",
   "execution_count": 95,
   "id": "72c7c242",
   "metadata": {},
   "outputs": [
    {
     "data": {
      "text/plain": [
       "0.17397902982711322"
      ]
     },
     "execution_count": 95,
     "metadata": {},
     "output_type": "execute_result"
    }
   ],
   "source": [
    "final_pipe4.fit(X_train, y_train)\n",
    "final_pipe4.score(X_test,y_test)"
   ]
  },
  {
   "cell_type": "markdown",
   "id": "71f2993c",
   "metadata": {},
   "source": [
    "# Classification"
   ]
  },
  {
   "cell_type": "markdown",
   "id": "2b00e300",
   "metadata": {},
   "source": [
    "### Binary Classification\n",
    "Definition: Binary classification is a type of classification task where an instance is classified into one of two classes. It's the simplest form of machine learning classification.\n",
    "\n",
    "#### Examples:\n",
    "\n",
    "Email Spam Detection: Classifying emails as 'Spam' or 'Not Spam'.\n",
    "Medical Diagnosis: Identifying if a patient has a specific disease (Yes/No).\n",
    "Encoding Needs: In binary classification, encoding is typically straightforward as it involves two classes. These are often encoded as 0 and 1. This is necessary to facilitate the mathematical computations underlying most algorithms, which require numerical input.\n",
    "\n",
    "### Multiclass Classification\n",
    "Definition: Multiclass or multinomial classification distinguishes between more than two classes.\n",
    "\n",
    "#### Examples:\n",
    "\n",
    "Handwritten Digit Recognition: Classifying a digit image into one of 10 classes (0-9).\n",
    "Text Classification: Categorizing news articles into various topics like sports, politics, technology, etc.\n",
    "Encoding Needs:\n",
    "\n",
    "### Label Encoding: \n",
    "Each class is assigned a unique integer. This method is simple but can imply an ordinal relationship where none exists.\n",
    "\n",
    "### One-Hot Encoding:\n",
    "\n",
    "Each class is represented as a binary vector with all zero values except the index of the class, which is marked with 1. This is widely used as it avoids the issue of introducing artificial ordinality.\n",
    "\n",
    "### Why Encoding is Needed:\n",
    "\n",
    "Computational Efficiency: Most machine learning algorithms work on numerical data. Encoding categorical data into numerical values is essential for the algorithm to perform computations.\n",
    "\n",
    "Algorithm Compatibility: Some algorithms, especially those that involve distance calculations like KNN or SVM, require numerical input to make sense of the data.\n",
    "\n",
    "Improved Performance: Proper encoding can improve model performance by providing clearer and more meaningful representation of categories.\n",
    "\n",
    "Avoiding Misinterpretation: Without proper encoding, models might misinterpret categorical data (like treating categories with higher numerical labels as having higher importance).\n",
    "\n",
    "In summary, encoding is a critical step in preparing data for both binary and multiclass classification as it converts categorical labels into a format that can be easily interpreted and processed by machine learning algorithms.\n",
    "\n",
    "\n",
    "\n",
    "\n",
    "\n"
   ]
  },
  {
   "cell_type": "markdown",
   "id": "a2e473c5",
   "metadata": {},
   "source": [
    "# Model:\n",
    "### Logistic Regression: \n",
    "\n",
    "Despite being named 'regression', it is actually a classification method. It's used for binary classification problems (yes/no, 0/1).\n",
    "\n",
    "### K-Nearest Neighbors (KNN): \n",
    "\n",
    "A simple, instance-based learning algorithm. Classifies a data point based on how its neighbors are classified. It's effective for a dataset with a small number of dimensions.\n",
    "\n",
    "### Support Vector Machines (SVM): \n",
    "\n",
    "Effective in high-dimensional spaces. It's used for both classification and regression tasks. SVM finds a hyperplane that best separates different classes by maximizing the margin between them.\n",
    "\n",
    "### Decision Trees:\n",
    "\n",
    "A tree-like model of decisions. They are interpretable and easy to visualize, used for both classification and regression tasks.\n",
    "\n",
    "### Random Forest:  \n",
    "\n",
    "An ensemble of decision trees, typically used for classification. It combines the simplicity of decision trees with flexibility, resulting in higher accuracy.\n",
    "\n",
    "### Naive Bayes:\n",
    "\n",
    "Based on Bayes' theorem, it assumes independence between predictors. It's simple and effective, particularly for large datasets and text classification.\n",
    "\n",
    "### Gradient Boosting Machines (GBM):\n",
    "\n",
    "An ensemble technique that builds trees in a sequential manner, where each tree tries to correct the mistakes of the previous one. It's known for high effectiveness in predictive accuracy.\n",
    "\n"
   ]
  },
  {
   "cell_type": "code",
   "execution_count": 40,
   "id": "c6b1558b",
   "metadata": {},
   "outputs": [
    {
     "name": "stdout",
     "output_type": "stream",
     "text": [
      "Accuracy: 1.00\n"
     ]
    }
   ],
   "source": [
    "import numpy as np\n",
    "from sklearn import datasets\n",
    "from sklearn.model_selection import train_test_split\n",
    "from sklearn.preprocessing import StandardScaler\n",
    "from sklearn.linear_model import LogisticRegression\n",
    "\n",
    "# Load the Iris dataset\n",
    "iris = datasets.load_iris()\n",
    "X = iris.data\n",
    "y = iris.target\n",
    "\n",
    "# Convert to binary classification\n",
    "# Only classify iris-setosa (label 0) vs iris-versicolor (label 1)\n",
    "X = X[y != 2]  # remove iris-virginica\n",
    "y = y[y != 2]  # remove iris-virginica\n",
    "\n",
    "# Split the dataset into training and test sets\n",
    "X_train, X_test, y_train, y_test = train_test_split(X, y, test_size=0.3, random_state=42)\n",
    "\n",
    "# Feature scaling for optimal performance\n",
    "scaler = StandardScaler()\n",
    "X_train = scaler.fit_transform(X_train)\n",
    "X_test = scaler.transform(X_test)\n",
    "\n",
    "# Create a logistic regression classifier\n",
    "classifier = LogisticRegression(random_state=0)\n",
    "classifier.fit(X_train, y_train)\n",
    "\n",
    "# Make predictions on the test set\n",
    "y_pred = classifier.predict(X_test)\n",
    "\n",
    "# Evaluate the classifier\n",
    "accuracy = np.mean(y_pred == y_test)\n",
    "print(f\"Accuracy: {accuracy:.2f}\")\n"
   ]
  },
  {
   "cell_type": "code",
   "execution_count": null,
   "id": "5ae0103d",
   "metadata": {},
   "outputs": [],
   "source": []
  }
 ],
 "metadata": {
  "kernelspec": {
   "display_name": "Python 3 (ipykernel)",
   "language": "python",
   "name": "python3"
  },
  "language_info": {
   "codemirror_mode": {
    "name": "ipython",
    "version": 3
   },
   "file_extension": ".py",
   "mimetype": "text/x-python",
   "name": "python",
   "nbconvert_exporter": "python",
   "pygments_lexer": "ipython3",
   "version": "3.9.13"
  }
 },
 "nbformat": 4,
 "nbformat_minor": 5
}
