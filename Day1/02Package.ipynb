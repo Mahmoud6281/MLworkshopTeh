{
 "cells": [
  {
   "cell_type": "markdown",
   "id": "e88917bc",
   "metadata": {},
   "source": [
    "# Python Environment"
   ]
  },
  {
   "cell_type": "markdown",
   "id": "0410b02d",
   "metadata": {},
   "source": [
    "## Why Python?\n",
    "\n",
    "> Python is an **interpreted high-level general-purpose programming language**. Its design philosophy emphasizes code readability with its use of significant indentation. Its language constructs as well as its **object-oriented approach** aim to help programmers write clear, logical code for small and large-scale projects.\n",
    "\n",
    "_Wikipedia: Python (Programming language)_"
   ]
  },
  {
   "cell_type": "markdown",
   "id": "e796aa68",
   "metadata": {},
   "source": [
    "As of October 2023, the Python Package Index (PyPI), the official repository for third-party Python packages, contains over 487,000 packages with a wide range of functionality. (same time last year there were 406,130 packages - about 80,000 increase in one year)."
   ]
  },
  {
   "cell_type": "markdown",
   "id": "21659b1b",
   "metadata": {},
   "source": [
    "## The many ways to use Python\n",
    "\n",
    "Python is used in many ways:\n",
    "1. Jupyter notebooks (Data Science, Machine Learning, Teaching, Storytelling, Prototyping...) (**.ipynb**)\n",
    "1. Hacking in the interpreter/IPython console\n",
    "1. Small, useful scripts (**.py**)\n",
    "1. Module files: importable code\n",
    "1. Large, stable packages\n",
    "\n"
   ]
  },
  {
   "cell_type": "markdown",
   "id": "48546499",
   "metadata": {},
   "source": [
    "### Jupyter notebooks\n",
    "\n",
    "An executable document (`.ipynb`) that consists of multiple cells (of potentially different type) that can contain:\n",
    "- Computer code and its output (code cells)\n",
    "- Human-readable and formattable text, equations, and images (Markdown cells)"
   ]
  },
  {
   "cell_type": "markdown",
   "id": "a31ad37d",
   "metadata": {},
   "source": [
    "### The Python interpreter\n",
    "\n",
    "```\n",
    "Python 3.10.0 (default, Nov 10 2021, 11:24:47) [Clang 12.0.0 ] on darwin\n",
    "Type \"help\", \"copyright\", \"credits\" or \"license\" for more information.\n",
    ">>> \n",
    "```\n",
    "\n",
    "Not user friendly way to run an interactive Python session, but the best supported.\n",
    "- On many Mac and Linux systems (although sometimes quite old), \n",
    "- Very likely to be on network accessible machines.\n",
    "- Quit with `exit()` or <kbd>Ctrl+D</kbd> (Mac/Linux) or <kbd>Ctrl+Z</kbd> <kbd>Return</kbd> (Windows)."
   ]
  },
  {
   "cell_type": "markdown",
   "id": "4616a983",
   "metadata": {},
   "source": [
    "### The IPython console\n",
    "\n",
    "IPython (aka Interactive Python) much more \"batteries included\"  experience:\n",
    "- better history editor,\n",
    "- better tab completions,\n",
    "- quicker help,\n",
    "- inline matplotlib support."
   ]
  },
  {
   "cell_type": "markdown",
   "id": "3e4e387c",
   "metadata": {},
   "source": [
    "## Python Scripts\n",
    "\n",
    "A Python script is a plain text file containing valid Python code and comments (i.e lines starting `#`), which the Python interpreter transforms into instructions for the computer to perform. Script files are written in just the same way you'd write Python code in an interactive interpreter, or similar to a notebook."
   ]
  },
  {
   "cell_type": "markdown",
   "id": "fba762f4",
   "metadata": {},
   "source": [
    "An [example script](./rot13.py), `rot13.py` might look like\n",
    "```python\n",
    "#!/usr/bin/env python3\n",
    "\n",
    "import codecs\n",
    "import sys\n",
    "\n",
    "print(codecs.encode(sys.argv[1], 'rot13'))\n",
    "\n"
   ]
  },
  {
   "cell_type": "markdown",
   "id": "1c8da7b1",
   "metadata": {},
   "source": [
    "#### Shebangs\n",
    "\n",
    "\"shebang line\", `#!/usr/bin/env python3` tells Linux/MacOSX this script runs with Python 3. On those systems we can also turn the script into an executable file and run it straight off:\n",
    "\n",
    "```bash\n",
    "$ chmod 755 rot13.py\n",
    "$ ./rot13.py \"This works on Linux/Mac systems\"\n",
    "```\n",
    "\n"
   ]
  },
  {
   "cell_type": "code",
   "execution_count": 1,
   "id": "507ae0e6",
   "metadata": {},
   "outputs": [
    {
     "name": "stdout",
     "output_type": "stream",
     "text": [
      "Hello everybody!\r\n"
     ]
    }
   ],
   "source": [
    "#inside a notebook/IPython, the ! allows calls out to the operating system shell\n",
    "!python rot13.py \"Uryyb rirelobql!\" "
   ]
  },
  {
   "cell_type": "code",
   "execution_count": 2,
   "id": "683c90d6",
   "metadata": {},
   "outputs": [
    {
     "name": "stdout",
     "output_type": "stream",
     "text": [
      "It's a secret!\n"
     ]
    }
   ],
   "source": [
    "# Inside the IPython console and in notebooks, we can also use the `%run` magic statement:\n",
    "%run rot13.py \"Vg'f n frperg!\""
   ]
  },
  {
   "cell_type": "markdown",
   "id": "4f5d2ba0",
   "metadata": {},
   "source": [
    "### Writing a Python script\n",
    "\n",
    "A Python script is a text file, you just need a text editor. We'll use [Visual Studio Code](https://code.visualstudio.com):\n",
    "- cross platform lightweight code editor (maybe an IDE, integrated development environment)\n",
    "- distributed by Microsoft,\n",
    "- makes writing, running and understanding Python scripts easier.\n",
    "\n",
    "Some other IDEs/code editors (multilanguage):\n",
    " - [Spyder](https://www.spyder-ide.org/) another IDE which comes bundled with Anaconda Python installations.\n",
    " - [Visual Studio](https://visualstudio.com/) (Mostly Windows) Visual Studio Code's big brother. The package also contains Windows compilers for various languages.\n",
    " - [Eclipse](https://www.eclipse.org) A cross-platforn open source IDE\n",
    "(python only):\n",
    " - [PyCharm](https://www.jetbrains.com/pycharm/) A Python IDE similar to Spyder.\n",
    " - and [many others...](https://en.wikipedia.org/wiki/Comparison_of_integrated_development_environments#Python)\n",
    " "
   ]
  },
  {
   "cell_type": "markdown",
   "id": "685952fa",
   "metadata": {},
   "source": [
    "Generic text editors with syntax highlighting:\n",
    " - Jupyter - as well as notebooks, it can edit plain text files.\n",
    " - [Emacs](https://www.gnu.org/software/emacs/) (cross platform) Console/Windowed text editor.\n",
    " - [Nano](https://www.nano-editor.org) (cross platform) Console text editor.\n",
    " - [Notepad++](https://notepad-plus-plus.org) (Windows only) GUI text editor\n",
    " - [Vim](https://www.vim.org) (cross platform) Console text editor. \n",
    "\n",
    " \n",
    "Your choice  is personal, use what works for you. Don't be afraid to experiment, or carry on using a favourite."
   ]
  },
  {
   "cell_type": "markdown",
   "id": "8e8040e4",
   "metadata": {},
   "source": [
    "## Python Modules\n",
    "\n",
    "- Python modules files contain code you `import` into your scripts and programs. \n",
    "- External file from which you are using (or _reusing_) content. \n",
    "- In other languages, might be called a library file. \n",
    "- A pure Python module file is just like a script, except it expects to be `import`-ed.\n",
    "- No default output, maybe lots of related functions and classes."
   ]
  },
  {
   "cell_type": "code",
   "execution_count": 1,
   "id": "4763d7ef",
   "metadata": {},
   "outputs": [
    {
     "data": {
      "text/plain": [
       "'Hello everybody!'"
      ]
     },
     "execution_count": 1,
     "metadata": {},
     "output_type": "execute_result"
    }
   ],
   "source": [
    "import code_mod\n",
    "code_mod.rot13(\"Uryyb rirelobql!\")"
   ]
  },
  {
   "cell_type": "markdown",
   "id": "93fd8615",
   "metadata": {},
   "source": [
    "### The `import` command\n",
    "\n",
    "#### The `import` search path\n",
    "\n",
    "After looking in the current directory, Python uses the other directories inside the `sys.path` variable, in order, when asked to find files via an import command."
   ]
  },
  {
   "cell_type": "markdown",
   "id": "eaac1fac",
   "metadata": {},
   "source": [
    "## Python Packages\n",
    "\n",
    "### An example package\n",
    "\n",
    "Python packages bundle multiple modules into one place, to make installing and uninstalling them easier and to simplify usage. A simple python package just consists of python files inside a directory tree."
   ]
  },
  {
   "cell_type": "markdown",
   "id": "e06057fd",
   "metadata": {},
   "source": [
    "A typical template for a fairly basic python package called `mycoolproject` might look like:\n",
    "\n",
    "```bash\n",
    "mycoolproject\n",
    " ├── __init__.py\n",
    " ├── cool_module.py\n",
    " ├── another_cool_module.py\n",
    " └── extras\n",
    "      ├── __init__.py\n",
    "      ├── __main__.py\n",
    "      └── extra_stuff.py\n",
    "requirements.txt\n",
    "setup.py\n",
    "LICENSE\n",
    "README.md\n",
    "```"
   ]
  },
  {
   "cell_type": "markdown",
   "id": "3fbc649d",
   "metadata": {},
   "source": [
    "### Software Licensing\n",
    "\n",
    "<div class=alert-danger>\n",
    "    \n",
    "<h4> Warning</h4>\n",
    "\n",
    "I am not your lawyer. Lawyers spend a lot of money on insurance, I don't. Don't plan on using these notes as a defence in court. But please read about the licensing of every code you are using/editing\n",
    "</div>"
   ]
  },
  {
   "cell_type": "code",
   "execution_count": null,
   "id": "d161aac2",
   "metadata": {},
   "outputs": [],
   "source": []
  }
 ],
 "metadata": {
  "kernelspec": {
   "display_name": "Python 3 (ipykernel)",
   "language": "python",
   "name": "python3"
  },
  "language_info": {
   "codemirror_mode": {
    "name": "ipython",
    "version": 3
   },
   "file_extension": ".py",
   "mimetype": "text/x-python",
   "name": "python",
   "nbconvert_exporter": "python",
   "pygments_lexer": "ipython3",
   "version": "3.9.13"
  }
 },
 "nbformat": 4,
 "nbformat_minor": 5
}
