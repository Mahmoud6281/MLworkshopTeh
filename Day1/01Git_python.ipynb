{
 "cells": [
  {
   "cell_type": "markdown",
   "id": "2cc102ae",
   "metadata": {},
   "source": [
    "### `git` and `GitHub` basics\n",
    "\n",
    "Your personal computers should be configured as per the instructions provided in [laptop setup](./00Setup.ipynb). During this process you should have configured your `git` username and password. (If not, please take a look at those instructions and configure your `git` settings during this session).\n",
    "\n",
    "There are plethora of good online `git` and `GitHub` tutorials - typing \"git tutorial\", \"github tutorial\" or similar into your search engine of choice will provide you with guides that will take you from the basics through to more advanced usage. We will now work through some of the basics."
   ]
  },
  {
   "cell_type": "markdown",
   "id": "9a83bd54",
   "metadata": {},
   "source": [
    "1. Create a repository via `GitHub`\n",
    "\n",
    "The first step is to create a repository via your `GitHub` account. A repository can be thought of as an individual 'project' which is under version control. Upon navigating to `https://github.com/yourusername?tab=repositories` you should see something like the following:\n",
    "\n",
    "<img src=\"img/gh1.png\">\n",
    "\n",
    "Click on `New`, ensure you are selected as the `Owner` then give your repository a name, check the add `README` box and then create it.\n",
    "\n",
    "The repository will now exist on `GitHub` under your repositories.\n",
    "\n",
    "**NOTE:** You can of course create repositories in different manners. For example, you can write some code locally and then initialize the folder containing it as a `git` repo and later push this to `GitHub`. Feel free to try this later, but note that it's a little more involved and this route is not necessary for the time being.\n",
    "\n",
    "2. `clone` a repository\n",
    "\n",
    "To start modifying the contents of the freshly made repo, we'll **clone** it to our local machines. To do this, in a terminal (Windows users should ensure they are in a WSL Ubuntu terminal), navigate to the folder where you wish to clone your repository to and use the command\n",
    "```\n",
    "git clone https://github.com/yourusername/yourreponame.git\n",
    "```\n",
    "Typing `ls` (list) in your terminal will now reveal the presence of the freshly cloned folder. Navigate into your repository. Currently, only the `README.md` file will be present.\n",
    "\n",
    "3. `commit`ing changes\n",
    "\n",
    "If in the repository we type\n",
    "```\n",
    "git status\n",
    "```\n",
    "we'll output along the lines of\n",
    "```\n",
    "On branch main\n",
    "nothing to commit, working tree clean\n",
    "```\n",
    "This tells us we're on the branch `main` (we'll discuss branches more later, we'll just work directly on `main` for now) and that there have been no changes since the previous `commit`. Now, using your desired editor, open and modify the `README.md` (adding some random text is sufficient for now!). Save the changes and return to your terminal, then type `git status` again and notice the difference! We can also use the command\n",
    "```\n",
    "git diff\n",
    "```\n",
    "which will show the modifications in each file that has been changed.\n",
    "\n",
    "For the changes made to become an 'official' part of the codebase we now need to commit them. We can do that via\n",
    "```\n",
    "git commit -a -m \"an appropriate commit message.\"\n",
    "```\n",
    "This will create a 'check point' which knows the current state of the code. Type `git status` and `git diff` again and notice the output.\n",
    "\n",
    "4. `push` changes to `GitHub`\n",
    "\n",
    "These changes are now registered locally, but if you look at the `GitHub` page for this repository, nothing will have changed. For `GitHub` to know about the changes that have been made locally, we need to `push` them to the `remote` repository. We do this via\n",
    "```\n",
    "git push\n",
    "```\n",
    "After completing the `push`, if we go back to the repo url and refresh we'll see that the changes are now appearing.\n",
    "\n",
    "5. Adding new files under `git` version control\n",
    "\n",
    "Lets now look at how to add new files to our repository. Lets, somewhere in our repository, create a new `.py` file. We can make something simple for now, e.g.\n",
    "```python\n",
    "import numpy as np\n",
    "\n",
    "a = np.sin(np.pi/2)\n",
    "\n",
    "print(a)\n",
    "```\n",
    "After creating our new file we can again run `git status`. We'll then see the new file appearing as `untracked`. If we wish to incorporate an untracked file under version control in the current repository we need to add it and then commit it as follows. Run\n",
    "```\n",
    "git add path_to/new_file.py\n",
    "```\n",
    "Before committing, it's a useful exercise at this point to run `git diff`. You'll see the contents of the new file appearing in this diff now. The commit the new file\n",
    "```\n",
    "git commit -a -m \"Add new_file.py\n",
    "```\n",
    "If we `git push` and then review our refreshed repo on `GitHub` we'll see the new file is there and the commit history has been updated.\n",
    "\n",
    "Next, take the time to carefully go through the above steps by yourselves, play around with your repository a little and be sure to ask questions!\n",
    "\n",
    "**Exercise:** Create a new jupyter notebook in your repository and run it. After this, run `git status`. What do you observe? Notice that as well as the notebook showing as an untracked file, some additional meta data files have been created - we don't want these to be tracked by git though so be careful not to add them! Be sure to only add the notebook itself to avoid cluttering the repository with unnecessary meta data files. If we know such meta data will often be created, but we don't want it tracked, can we get git to ignore it? Check out the [gitignore](https://git-scm.com/docs/gitignore) documentation to see if you can achieve this!"
   ]
  },
  {
   "cell_type": "markdown",
   "id": "a72dab7d",
   "metadata": {},
   "source": [
    "<div class=\"alert alert-info\">\n",
    "\n",
    "If you are interested learning more please see [Extra materials](./01Extra.ipynb)\n",
    " </div>"
   ]
  }
 ],
 "metadata": {
  "kernelspec": {
   "display_name": "Python 3 (ipykernel)",
   "language": "python",
   "name": "python3"
  },
  "language_info": {
   "codemirror_mode": {
    "name": "ipython",
    "version": 3
   },
   "file_extension": ".py",
   "mimetype": "text/x-python",
   "name": "python",
   "nbconvert_exporter": "python",
   "pygments_lexer": "ipython3",
   "version": "3.9.13"
  }
 },
 "nbformat": 4,
 "nbformat_minor": 5
}
