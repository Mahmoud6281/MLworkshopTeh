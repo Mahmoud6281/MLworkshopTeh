{
 "cells": [
  {
   "cell_type": "markdown",
   "id": "660b50f2",
   "metadata": {},
   "source": [
    "### Collaborating with `git`/`GitHub`\n",
    "\n",
    "`GitHub` is an extremely useful and powerful tool for collaborative work - this will become _even_ more evident when we look at testing and continuous integration (CI) later in the module). Clearly, if you go on to work in any job where you're developing software, you'll need to use version control software in a collaborative manner. Also, you'll need to do this in each of your group projects this year! So lets have a little practice.\n",
    "\n",
    "**NOTE:** Items in **bold** have some instructions below to help you out with those steps!\n",
    "\n",
    "- Form teams of, ideally, 3 people (2-4 people is also fine).\n",
    "- Choose **one** members repository (created earlier today) as the repository the whole team will work on.\n",
    "- That member will need to **invite the other members of the team as collaborators**.\n",
    "- Each member should then clone the repository to a suitable location on their machine.\n",
    "- Once cloned, each member should **check out a new (independently named) branch**.\n",
    "- Next, independently, add a new file to the repository (.py, .txt, etc., it doesn't really matter). Add and commit the file to your branch.\n",
    "- **Push this new branch to `GitHub`**.\n",
    "- For your branch, **Create a Pull Request**. Then, as a team, **merge each pull request**.\n",
    "- On your local machines, `git checkout main` and then `git pull` to ensure your `main` branch is up to date with that existing on `GitHub`.\n",
    "- **Delete your old branch** that has now been merged.\n",
    "- Next, each member should (separately) create a new branch (from the up to date `main`). In the `.py` file created previously, each add a new function (anything simple will do, just make sure each function everyone is adding is a little different). When done, commit and then push the new branch to `GitHub`. Create pull requests again. Choose one branch to merge <- _this should work fine_. However, when trying to merge the next branch you'll probably encounter a merge conflict! I'll do a live demo demonstrating _one_ way to handle merge conflicts later, but can you attempt utilise [rebase](https://git-scm.com/docs/git-rebase) to fix this yourselves?"
   ]
  },
  {
   "cell_type": "markdown",
   "id": "aeedc725",
   "metadata": {},
   "source": [
    "#### Inviting collaborators to `GitHub` repos\n",
    "\n",
    "If you wish to allow other users read and write access to a repository in your workspace you need to add them with the correct permissions.\n",
    "\n",
    "Click on the repository settings tab:\n",
    "\n",
    "<img src=\"img/gh2.png\">\n",
    "\n",
    "The, click on `Collaborators` in the left hand side bar and you should see something like the following:\n",
    "\n",
    "<img src=\"img/gh3.png\">\n",
    "\n",
    "Use the `Add people` button to add all your group members. Ensure they have Read/Write access or above!"
   ]
  },
  {
   "cell_type": "markdown",
   "id": "161a4302",
   "metadata": {},
   "source": [
    "#### Creating branches\n",
    "\n",
    "Utilising the branch functionality is among the most important, and useful, aspects of using version control software. Hence, it's important to get used to it!\n",
    "\n",
    "Simply speaking, a branch is a separate version of the main repository (there are more exact and technical definitions but we don't need to worry about that for now). When working on a new feature, for example, it's useful to create a branch an experiment. This can then be eventually merged with the main branch, but if things don't work out it can be deleted with the main core untouched/unharmed! They're useful for many many more reasons, that you'll start to see as you make use of their functionality.\n",
    "\n",
    "To check which branch you're currently on you can run\n",
    "```\n",
    "git branch\n",
    "```\n",
    "The current branch will be marked with an \\*. To create a new branch you can run:\n",
    "```\n",
    "git checkout -b new_branch_name\n",
    "```\n",
    "(Run `git branch` again now to see how things have changed!). The move between existing branch you can run\n",
    "```\n",
    "git checkout existing_branch_main\n",
    "```\n",
    "e.g., to move back to the main branch from your newly created branch you can simply run\n",
    "```\n",
    "git checkout main\n",
    "```\n",
    "(But remember to move back to your new/development branch before making changes to the code!)"
   ]
  },
  {
   "cell_type": "markdown",
   "id": "476350e0",
   "metadata": {},
   "source": [
    "#### Pushing new (locally created) branches to `GitHub`\n",
    "\n",
    "After creating a new branch locally, to push this to `GitHub` you'll need to run\n",
    "```\n",
    "git push -u origin new_branch_name\n",
    "```\n",
    "Following this, the branch will be visible on the branches tab of your `GitHub` repo:\n",
    "\n",
    "<img src=\"img/gh4.png\">\n",
    "\n",
    "Now that `GitHub` knows about the branch, if we push any more changes to the branch we can simply use\n",
    "```\n",
    "git push\n",
    "```"
   ]
  },
  {
   "cell_type": "markdown",
   "id": "a184a0db",
   "metadata": {},
   "source": [
    "#### Creating and merging pull requests\n",
    "\n",
    "Creating and merging pull requests are another important aspect of managing `GitHub` repositories. If we wish to merge the changes of a particular branch into the `main` branch it's good practice to open a pull request to do this.\n",
    "\n",
    "There are many ways to do this, but here's one. If you click on the `branches` tab (shown in the figure above) you'll see something along the lines of:\n",
    "\n",
    "<img src=\"img/gh5.png\">\n",
    "\n",
    "Next to the branch you wish to merge, you can click the `Create pull request` button and follow the instructions. In the `Pull requests` (PR) tab of the main repo, you'll then see the pull request appear. This view has many useful tools, where developers can see and comment on the changes to the code base etc. Providing all is 'ok' with the PR, when opening the PR you'll see the `Merge pull request` button as green:\n",
    "\n",
    "<img src=\"img/gh6.png\">\n",
    "\n",
    "**Important:** Just because the button is green it doesn't mean the PR is ready to be merged (it just means GH knows how to merge it without any conflicts emerging). The changes introduced by a PR should be carefully checked by users to ensure everything is as they wish.\n",
    "\n",
    "After clicking the `Merge pull request` button the changes will then be live in the `Main` branch. After this, remember to update your main locally by checking out the main branch and running a `git pull`!"
   ]
  },
  {
   "cell_type": "markdown",
   "id": "67e9203e",
   "metadata": {},
   "source": [
    "## PEP8 - The Python style guide\n",
    "\n",
    "Non-ACSII function names & comments are allowed, but Python style guide suggests avoiding them in the standard library. This [style guide](https://www.python.org/dev/peps/pep-0008/), is known as PEP8.\n",
    "\n",
    "[Python Enhancement Proposals](https://www.python.org/dev/peps/) (PEPs) are mechanism through which Python expands & improves. Suggestions discussed & debated, before being implemented/rejected. PEP8 describes suggestions for good Python code.\n",
    "Guido van Rossum (Python creator) noted that most code is read more often than it is written. \n",
    "\n",
    "Single most important aspect of code is readability."
   ]
  },
  {
   "cell_type": "markdown",
   "id": "7eb06b70",
   "metadata": {},
   "source": [
    "For further discussion, see resources like:\n",
    "- [Google's Python Style Guide](https://google.github.io/styleguide/pyguide.html),\n",
    "- the [Hitchhiker's Guide to Python](https://docs.python-guide.org/writing/style/) \n",
    "- style guides for large open source python projects such as [Django](https://docs.djangoproject.com/en/dev/internals/contributing/writing-code/coding-style/)"
   ]
  },
  {
   "cell_type": "markdown",
   "id": "5124896e",
   "metadata": {},
   "source": [
    "## Python Modules\n",
    "\n",
    "- Python modules files contain code you `import` into your scripts and programs. \n",
    "- External file from which you are using (or _reusing_) content. \n",
    "- In other languages, might be called a library file. \n",
    "- A pure Python module file is just like a script, except it expects to be `import`-ed.\n",
    "- No default output, maybe lots of related functions and classes."
   ]
  },
  {
   "cell_type": "code",
   "execution_count": 1,
   "id": "71b4f43c",
   "metadata": {},
   "outputs": [
    {
     "data": {
      "text/plain": [
       "'Hello everybody!'"
      ]
     },
     "execution_count": 1,
     "metadata": {},
     "output_type": "execute_result"
    }
   ],
   "source": [
    "import code_mod\n",
    "code_mod.rot13(\"Uryyb rirelobql!\")"
   ]
  },
  {
   "cell_type": "markdown",
   "id": "1c6e3fa4",
   "metadata": {},
   "source": [
    "### The `import` command\n",
    "\n",
    "#### The `import` search path\n",
    "\n",
    "After looking in the current directory, Python uses the other directories inside the `sys.path` variable, in order, when asked to find files via an import command."
   ]
  },
  {
   "cell_type": "markdown",
   "id": "abfda67b",
   "metadata": {},
   "source": [
    "## Python Packages\n",
    "\n",
    "### An example package\n",
    "\n",
    "Python packages bundle multiple modules into one place, to make installing and uninstalling them easier and to simplify usage. A simple python package just consists of python files inside a directory tree."
   ]
  },
  {
   "cell_type": "markdown",
   "id": "ad09383b",
   "metadata": {},
   "source": [
    "A typical template for a fairly basic python package called `mycoolproject` might look like:\n",
    "\n",
    "```bash\n",
    "mycoolproject\n",
    " ├── __init__.py\n",
    " ├── cool_module.py\n",
    " ├── another_cool_module.py\n",
    " └── extras\n",
    "      ├── __init__.py\n",
    "      ├── __main__.py\n",
    "      └── extra_stuff.py\n",
    "requirements.txt\n",
    "setup.py\n",
    "LICENSE\n",
    "README.md\n",
    "```"
   ]
  },
  {
   "cell_type": "markdown",
   "id": "3ba88b82",
   "metadata": {},
   "source": [
    "### Software Licensing\n",
    "\n",
    "<div class=alert-danger>\n",
    "    \n",
    "<h4> Warning</h4>\n",
    "\n",
    "I am not your lawyer. Lawyers spend a lot of money on insurance, I don't. Don't plan on using these notes as a defence in court. But please read about the licensing of every code you are using/editing\n",
    "</div>"
   ]
  },
  {
   "cell_type": "code",
   "execution_count": null,
   "id": "8ec7ce9e",
   "metadata": {},
   "outputs": [],
   "source": []
  }
 ],
 "metadata": {
  "kernelspec": {
   "display_name": "Python 3 (ipykernel)",
   "language": "python",
   "name": "python3"
  },
  "language_info": {
   "codemirror_mode": {
    "name": "ipython",
    "version": 3
   },
   "file_extension": ".py",
   "mimetype": "text/x-python",
   "name": "python",
   "nbconvert_exporter": "python",
   "pygments_lexer": "ipython3",
   "version": "3.9.13"
  }
 },
 "nbformat": 4,
 "nbformat_minor": 5
}
